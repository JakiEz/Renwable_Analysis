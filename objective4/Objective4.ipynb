{
 "cells": [
  {
   "cell_type": "code",
   "execution_count": null,
   "metadata": {
    "colab": {
     "base_uri": "https://localhost:8080/",
     "height": 350
    },
    "executionInfo": {
     "elapsed": 41,
     "status": "error",
     "timestamp": 1746537321131,
     "user": {
      "displayName": "Bg",
      "userId": "03634713841211245626"
     },
     "user_tz": -420
    },
    "id": "_U4_KABkU5ci",
    "outputId": "396d342c-327a-4a63-9122-43617d403428"
   },
   "outputs": [
    {
     "ename": "",
     "evalue": "",
     "output_type": "error",
     "traceback": [
      "\u001b[1;31mRunning cells with '.conda (Python 3.11.11)' requires the ipykernel package.\n",
      "\u001b[1;31mInstall 'ipykernel' into the Python environment. \n",
      "\u001b[1;31mCommand: 'conda install -n .conda ipykernel --update-deps --force-reinstall'"
     ]
    }
   ],
   "source": [
    "import pandas as pd\n",
    "import numpy as np\n",
    "import matplotlib.pyplot as plt\n",
    "import seaborn as sns\n",
    "from sklearn.preprocessing import MinMaxScaler\n",
    "from sklearn.cluster import KMeans, AgglomerativeClustering\n",
    "from sklearn.metrics import silhouette_score\n",
    "import plotly.express as px\n",
    "import pycountry"
   ]
  },
  {
   "cell_type": "markdown",
   "metadata": {
    "id": "pVbBNvOba_DF"
   },
   "source": [
    "# Data Preparation"
   ]
  },
  {
   "cell_type": "code",
   "execution_count": null,
   "metadata": {
    "colab": {
     "base_uri": "https://localhost:8080/"
    },
    "executionInfo": {
     "elapsed": 107,
     "status": "ok",
     "timestamp": 1746537323149,
     "user": {
      "displayName": "Bg",
      "userId": "03634713841211245626"
     },
     "user_tz": -420
    },
    "id": "ITQgPB40gASd",
    "outputId": "702b0ac4-0899-468c-dacf-d4702a29c47b"
   },
   "outputs": [
    {
     "ename": "",
     "evalue": "",
     "output_type": "error",
     "traceback": [
      "\u001b[1;31mRunning cells with '.conda (Python 3.11.11)' requires the ipykernel package.\n",
      "\u001b[1;31mInstall 'ipykernel' into the Python environment. \n",
      "\u001b[1;31mCommand: 'conda install -n .conda ipykernel --update-deps --force-reinstall'"
     ]
    }
   ],
   "source": [
    "df1 = pd.read_csv('../datasets/clean_countries_renewables_1985_2021.csv')\n",
    "df2 = pd.read_csv('../datsets/country_targetshare_perce.csv')\n",
    "df3 = pd.read_csv('../datasets/Sustainable.csv')\n",
    "#First Dataset Check\n",
    "null_counts = df1.isnull().sum()\n",
    "print(\"First File \\nNull values per column:\\n\", null_counts)\n",
    "non_null_counts = df1.notnull().sum()\n",
    "print(\"Non-null values per column:\\n\", non_null_counts)\n",
    "#Second Dataset Check\n",
    "null_counts = df2.isnull().sum()\n",
    "print(\"\\nSecond File\\nNull values per column:\\n\", null_counts)\n",
    "non_null_counts = df2.notnull().sum()\n",
    "print(\"Non-null values per column:\\n\", non_null_counts)\n",
    "#Third Dataset Check\n",
    "null_counts = df3.isnull().sum()\n",
    "print(\"\\nThird File\\nNull values per column:\\n\", null_counts)\n",
    "non_null_counts = df3.notnull().sum()\n",
    "print(\"Non-null values per column:\\n\", non_null_counts)"
   ]
  },
  {
   "cell_type": "markdown",
   "metadata": {
    "id": "h-OLiDSJ3czY"
   },
   "source": [
    "**Drop Unnecessary File**\n"
   ]
  },
  {
   "cell_type": "code",
   "execution_count": 11,
   "metadata": {
    "executionInfo": {
     "elapsed": 13,
     "status": "ok",
     "timestamp": 1746537323150,
     "user": {
      "displayName": "Bg",
      "userId": "03634713841211245626"
     },
     "user_tz": -420
    },
    "id": "3HqbihT6xSmk"
   },
   "outputs": [],
   "source": [
    "#Drop Rows where Country Name is Null & Create new data frame\n",
    "df3 = df3[df3['Country Code'].notna()]"
   ]
  },
  {
   "cell_type": "code",
   "execution_count": 12,
   "metadata": {
    "executionInfo": {
     "elapsed": 30,
     "status": "ok",
     "timestamp": 1746537323175,
     "user": {
      "displayName": "Bg",
      "userId": "03634713841211245626"
     },
     "user_tz": -420
    },
    "id": "kXgMH8cezBl6"
   },
   "outputs": [],
   "source": [
    "# Drop unnecessary columns from df3\n",
    "df_sustain = df3.drop(columns=[\n",
    "    \"Access to Clean Fuels and Technologies for cooking (% of total population) [2.1_ACCESS.CFT.TOT]\",\n",
    "    \"Access to electricity (% of rural population with access) [1.2_ACCESS.ELECTRICITY.RURAL]\",\n",
    "    \"Access to electricity (% of urban population with access) [1.3_ACCESS.ELECTRICITY.URBAN]\",\n",
    "    \"Time Code\"\n",
    "])\n",
    "\n",
    "# Drop unnecessary columns from df2\n",
    "df_targets = df2.drop(columns=[\"TFEC target share%\"])\n",
    "\n",
    "# Save the cleaned files into new CSVs\n",
    "df_sustain.to_csv(\"Sustainable_cleaned.csv\", index=False)\n",
    "df_targets.to_csv(\"country_targetshare_perce_cleaned.csv\", index=False)"
   ]
  },
  {
   "cell_type": "code",
   "execution_count": 13,
   "metadata": {
    "executionInfo": {
     "elapsed": 3,
     "status": "ok",
     "timestamp": 1746537323179,
     "user": {
      "displayName": "Bg",
      "userId": "03634713841211245626"
     },
     "user_tz": -420
    },
    "id": "fbXvV9Fv3mRc"
   },
   "outputs": [],
   "source": [
    "# Create new file\n",
    "df2_new = pd.read_csv('country_targetshare_perce_cleaned.csv')\n",
    "df3_new = pd.read_csv('Sustainable_cleaned.csv')"
   ]
  },
  {
   "cell_type": "code",
   "execution_count": 14,
   "metadata": {
    "colab": {
     "base_uri": "https://localhost:8080/"
    },
    "executionInfo": {
     "elapsed": 124,
     "status": "ok",
     "timestamp": 1746537323305,
     "user": {
      "displayName": "Bg",
      "userId": "03634713841211245626"
     },
     "user_tz": -420
    },
    "id": "JJCpuE-Cgs2a",
    "outputId": "f6d2d548-cc91-4435-d2d4-ca06a459d7de"
   },
   "outputs": [
    {
     "name": "stdout",
     "output_type": "stream",
     "text": [
      "\n",
      "Second File\n",
      "Null values per column:\n",
      " Country             0\n",
      "Target year         0\n",
      "100% RE targets    83\n",
      "dtype: int64\n",
      "Non-null values per column:\n",
      " Country            90\n",
      "Target year        90\n",
      "100% RE targets     7\n",
      "dtype: int64\n",
      "\n",
      "Third File\n",
      "Null values per column:\n",
      " Country Name                                                                                 0\n",
      "Country Code                                                                                 0\n",
      "Time                                                                                         0\n",
      "Access to electricity (% of total population) [1.1_ACCESS.ELECTRICITY.TOT]                   0\n",
      "Energy intensity level of primary energy (MJ/2011 USD PPP) [6.1_PRIMARY.ENERGY.INTENSITY]    0\n",
      "Renewable electricity output (GWh) [4.1.2_REN.ELECTRICITY.OUTPUT]                            0\n",
      "Renewable electricity share of total electricity output (%) [4.1_SHARE.RE.IN.ELECTRICITY]    0\n",
      "Renewable energy consumption (TJ) [3.1_RE.CONSUMPTION]                                       0\n",
      "Renewable energy share of TFEC (%) [2.1_SHARE.TOTAL.RE.IN.TFEC]                              0\n",
      "Total electricity output (GWh) [4.1.1_TOTAL.ELECTRICITY.OUTPUT]                              0\n",
      "Total final energy consumption (TFEC) (TJ) [1.1_TOTAL.FINAL.ENERGY.CONSUM]                   0\n",
      "dtype: int64\n",
      "Non-null values per column:\n",
      " Country Name                                                                                 5439\n",
      "Country Code                                                                                 5439\n",
      "Time                                                                                         5439\n",
      "Access to electricity (% of total population) [1.1_ACCESS.ELECTRICITY.TOT]                   5439\n",
      "Energy intensity level of primary energy (MJ/2011 USD PPP) [6.1_PRIMARY.ENERGY.INTENSITY]    5439\n",
      "Renewable electricity output (GWh) [4.1.2_REN.ELECTRICITY.OUTPUT]                            5439\n",
      "Renewable electricity share of total electricity output (%) [4.1_SHARE.RE.IN.ELECTRICITY]    5439\n",
      "Renewable energy consumption (TJ) [3.1_RE.CONSUMPTION]                                       5439\n",
      "Renewable energy share of TFEC (%) [2.1_SHARE.TOTAL.RE.IN.TFEC]                              5439\n",
      "Total electricity output (GWh) [4.1.1_TOTAL.ELECTRICITY.OUTPUT]                              5439\n",
      "Total final energy consumption (TFEC) (TJ) [1.1_TOTAL.FINAL.ENERGY.CONSUM]                   5439\n",
      "dtype: int64\n"
     ]
    }
   ],
   "source": [
    "#Check\n",
    "null_counts = df2_new.isnull().sum()\n",
    "print(\"\\nSecond File\\nNull values per column:\\n\", null_counts)\n",
    "non_null_counts = df2_new.notnull().sum()\n",
    "print(\"Non-null values per column:\\n\", non_null_counts)\n",
    "null_count2 = df3_new.isnull().sum()\n",
    "print(\"\\nThird File\\nNull values per column:\\n\", null_count2)\n",
    "non_null_count2 = df3_new.notnull().sum()\n",
    "print(\"Non-null values per column:\\n\", non_null_count2)"
   ]
  },
  {
   "cell_type": "code",
   "execution_count": 15,
   "metadata": {
    "executionInfo": {
     "elapsed": 3,
     "status": "ok",
     "timestamp": 1746537323309,
     "user": {
      "displayName": "Bg",
      "userId": "03634713841211245626"
     },
     "user_tz": -420
    },
    "id": "kBEcwF-Alq7g"
   },
   "outputs": [],
   "source": [
    "#Converting Data type\n",
    "df3_new['Renewable electricity output (GWh) [4.1.2_REN.ELECTRICITY.OUTPUT]'] = pd.to_numeric(df3_new['Renewable electricity output (GWh) [4.1.2_REN.ELECTRICITY.OUTPUT]'], errors='coerce')\n",
    "df3_new['Renewable electricity share of total electricity output (%) [4.1_SHARE.RE.IN.ELECTRICITY]'] = pd.to_numeric(df3_new['Renewable electricity share of total electricity output (%) [4.1_SHARE.RE.IN.ELECTRICITY]'], errors='coerce')\n",
    "df3_new['Renewable energy consumption (TJ) [3.1_RE.CONSUMPTION]'] = pd.to_numeric(df3_new['Renewable energy consumption (TJ) [3.1_RE.CONSUMPTION]'], errors='coerce')\n",
    "df3_new['Renewable energy share of TFEC (%) [2.1_SHARE.TOTAL.RE.IN.TFEC]'] = pd.to_numeric(df3_new['Renewable energy share of TFEC (%) [2.1_SHARE.TOTAL.RE.IN.TFEC]'], errors='coerce')\n",
    "df3_new['Total electricity output (GWh) [4.1.1_TOTAL.ELECTRICITY.OUTPUT]'] = pd.to_numeric(df3_new['Total electricity output (GWh) [4.1.1_TOTAL.ELECTRICITY.OUTPUT]'], errors='coerce')\n",
    "df3_new['Total final energy consumption (TFEC) (TJ) [1.1_TOTAL.FINAL.ENERGY.CONSUM]'] = pd.to_numeric(df3_new['Total final energy consumption (TFEC) (TJ) [1.1_TOTAL.FINAL.ENERGY.CONSUM]'], errors='coerce')\n"
   ]
  },
  {
   "cell_type": "markdown",
   "metadata": {
    "id": "gXN4rqLSfYgo"
   },
   "source": [
    "# Merge Data"
   ]
  },
  {
   "cell_type": "code",
   "execution_count": 16,
   "metadata": {
    "colab": {
     "base_uri": "https://localhost:8080/"
    },
    "executionInfo": {
     "elapsed": 7,
     "status": "ok",
     "timestamp": 1746537324397,
     "user": {
      "displayName": "Bg",
      "userId": "03634713841211245626"
     },
     "user_tz": -420
    },
    "id": "SeeNWnAffa4L",
    "outputId": "f431bc72-6a17-49d9-a783-5d34842944b1"
   },
   "outputs": [
    {
     "name": "stdout",
     "output_type": "stream",
     "text": [
      "<class 'pandas.core.frame.DataFrame'>\n",
      "RangeIndex: 5439 entries, 0 to 5438\n",
      "Data columns (total 11 columns):\n",
      " #   Column                                                                                     Non-Null Count  Dtype  \n",
      "---  ------                                                                                     --------------  -----  \n",
      " 0   Country                                                                                    5439 non-null   object \n",
      " 1   Country Code                                                                               5439 non-null   object \n",
      " 2   Year                                                                                       5439 non-null   float64\n",
      " 3   Access to electricity (% of total population) [1.1_ACCESS.ELECTRICITY.TOT]                 5439 non-null   object \n",
      " 4   Energy intensity level of primary energy (MJ/2011 USD PPP) [6.1_PRIMARY.ENERGY.INTENSITY]  5439 non-null   object \n",
      " 5   Renewable electricity output (GWh) [4.1.2_REN.ELECTRICITY.OUTPUT]                          4643 non-null   float64\n",
      " 6   Renewable electricity share of total electricity output (%) [4.1_SHARE.RE.IN.ELECTRICITY]  4643 non-null   float64\n",
      " 7   Renewable energy consumption (TJ) [3.1_RE.CONSUMPTION]                                     4644 non-null   float64\n",
      " 8   Renewable energy share of TFEC (%) [2.1_SHARE.TOTAL.RE.IN.TFEC]                            4463 non-null   float64\n",
      " 9   Total electricity output (GWh) [4.1.1_TOTAL.ELECTRICITY.OUTPUT]                            4548 non-null   float64\n",
      " 10  Total final energy consumption (TFEC) (TJ) [1.1_TOTAL.FINAL.ENERGY.CONSUM]                 4644 non-null   float64\n",
      "dtypes: float64(7), object(4)\n",
      "memory usage: 467.5+ KB\n"
     ]
    }
   ],
   "source": [
    "# Rename for easy access\n",
    "df1.rename(columns={\"Entity\": \"Country\"}, inplace=True)\n",
    "df3_new.rename(columns={\"Time\": \"Year\"}, inplace=True)\n",
    "df3_new.rename(columns={\"Country Name\": \"Country\"}, inplace=True)\n",
    "df2_new.rename(columns={\"Target year\": \"TargetYear\"}, inplace=True)\n",
    "df3_new.info()"
   ]
  },
  {
   "cell_type": "code",
   "execution_count": 17,
   "metadata": {
    "colab": {
     "base_uri": "https://localhost:8080/"
    },
    "executionInfo": {
     "elapsed": 2,
     "status": "ok",
     "timestamp": 1746537324400,
     "user": {
      "displayName": "Bg",
      "userId": "03634713841211245626"
     },
     "user_tz": -420
    },
    "id": "rKDQqHxOhjYS",
    "outputId": "06de7457-7278-4504-eee6-4d82cb76017d"
   },
   "outputs": [
    {
     "name": "stdout",
     "output_type": "stream",
     "text": [
      "<class 'pandas.core.frame.DataFrame'>\n",
      "RangeIndex: 1218 entries, 0 to 1217\n",
      "Data columns (total 12 columns):\n",
      " #   Column                                                                                     Non-Null Count  Dtype  \n",
      "---  ------                                                                                     --------------  -----  \n",
      " 0   Country                                                                                    1218 non-null   object \n",
      " 1   Year                                                                                       1218 non-null   int64  \n",
      " 2   Renewables (% electricity)                                                                 1218 non-null   float64\n",
      " 3   Country Code                                                                               1218 non-null   object \n",
      " 4   Access to electricity (% of total population) [1.1_ACCESS.ELECTRICITY.TOT]                 1218 non-null   object \n",
      " 5   Energy intensity level of primary energy (MJ/2011 USD PPP) [6.1_PRIMARY.ENERGY.INTENSITY]  1218 non-null   object \n",
      " 6   Renewable electricity output (GWh) [4.1.2_REN.ELECTRICITY.OUTPUT]                          1160 non-null   float64\n",
      " 7   Renewable electricity share of total electricity output (%) [4.1_SHARE.RE.IN.ELECTRICITY]  1160 non-null   float64\n",
      " 8   Renewable energy consumption (TJ) [3.1_RE.CONSUMPTION]                                     1160 non-null   float64\n",
      " 9   Renewable energy share of TFEC (%) [2.1_SHARE.TOTAL.RE.IN.TFEC]                            1160 non-null   float64\n",
      " 10  Total electricity output (GWh) [4.1.1_TOTAL.ELECTRICITY.OUTPUT]                            1160 non-null   float64\n",
      " 11  Total final energy consumption (TFEC) (TJ) [1.1_TOTAL.FINAL.ENERGY.CONSUM]                 1160 non-null   float64\n",
      "dtypes: float64(7), int64(1), object(4)\n",
      "memory usage: 114.3+ KB\n"
     ]
    }
   ],
   "source": [
    "#Merging\n",
    "merged = pd.merge(df1, df3_new, on=[\"Country\", \"Year\"], how=\"inner\")\n",
    "df_final = pd.merge(merged, df2_new, on=\"Country\", how=\"left\")\n",
    "df_final = df_final.drop(columns=['TargetYear', '100% RE targets', 'Code'])\n",
    "df_final.to_csv('final.csv', index=False)\n",
    "df_final.info()"
   ]
  },
  {
   "cell_type": "markdown",
   "metadata": {
    "id": "IWMaz_kCjcAD"
   },
   "source": [
    "# Classification"
   ]
  },
  {
   "cell_type": "code",
   "execution_count": 18,
   "metadata": {
    "executionInfo": {
     "elapsed": 6,
     "status": "ok",
     "timestamp": 1746537325339,
     "user": {
      "displayName": "Bg",
      "userId": "03634713841211245626"
     },
     "user_tz": -420
    },
    "id": "Me3VZKFMmKZ8"
   },
   "outputs": [],
   "source": [
    "# Load\n",
    "df = pd.read_csv('final.csv')\n",
    "\n",
    "# Columns to use (force to numeric)\n",
    "features = [\n",
    "    'Renewables (% electricity)',\n",
    "    'Access to electricity (% of total population) [1.1_ACCESS.ELECTRICITY.TOT]',\n",
    "    'Renewable electricity share of total electricity output (%) [4.1_SHARE.RE.IN.ELECTRICITY]',\n",
    "    'Energy intensity level of primary energy (MJ/2011 USD PPP) [6.1_PRIMARY.ENERGY.INTENSITY]',\n",
    "    'Renewable energy consumption (TJ) [3.1_RE.CONSUMPTION]',\n",
    "    'Total electricity output (GWh) [4.1.1_TOTAL.ELECTRICITY.OUTPUT]',\n",
    "    'Total final energy consumption (TFEC) (TJ) [1.1_TOTAL.FINAL.ENERGY.CONSUM]'\n",
    "]\n",
    "\n",
    "df[features] = df[features].apply(pd.to_numeric, errors='coerce')\n",
    "df_clean = df.dropna(subset=features)\n"
   ]
  },
  {
   "cell_type": "code",
   "execution_count": 19,
   "metadata": {
    "executionInfo": {
     "elapsed": 40,
     "status": "ok",
     "timestamp": 1746537325381,
     "user": {
      "displayName": "Bg",
      "userId": "03634713841211245626"
     },
     "user_tz": -420
    },
    "id": "R4aeYUWJmMhv"
   },
   "outputs": [],
   "source": [
    "df_country = (\n",
    "    df_clean\n",
    "      .groupby('Country')[features]\n",
    "      .mean()\n",
    "      .reset_index()\n",
    ")\n"
   ]
  },
  {
   "cell_type": "code",
   "execution_count": 20,
   "metadata": {
    "colab": {
     "base_uri": "https://localhost:8080/"
    },
    "executionInfo": {
     "elapsed": 102,
     "status": "ok",
     "timestamp": 1746537325483,
     "user": {
      "displayName": "Bg",
      "userId": "03634713841211245626"
     },
     "user_tz": -420
    },
    "id": "Wk2lDReTmNxW",
    "outputId": "4841d5bf-bc9c-4e51-84e4-e55f72fa0527"
   },
   "outputs": [
    {
     "name": "stdout",
     "output_type": "stream",
     "text": [
      "Silhouette Score: 0.313\n"
     ]
    }
   ],
   "source": [
    "X = df_country[features]\n",
    "X_scaled = MinMaxScaler().fit_transform(X)\n",
    "\n",
    "kmeans = KMeans(n_clusters=5, random_state=42, n_init=10)\n",
    "df_country['Cluster'] = kmeans.fit_predict(X_scaled)\n",
    "\n",
    "sil = silhouette_score(X_scaled, df_country['Cluster'])\n",
    "print(\"Silhouette Score:\", round(sil, 3))\n"
   ]
  },
  {
   "cell_type": "code",
   "execution_count": 21,
   "metadata": {
    "executionInfo": {
     "elapsed": 13,
     "status": "ok",
     "timestamp": 1746537325496,
     "user": {
      "displayName": "Bg",
      "userId": "03634713841211245626"
     },
     "user_tz": -420
    },
    "id": "ayDAQO-zmPi8"
   },
   "outputs": [],
   "source": [
    "# Order clusters by centroid on Renewables (% electricity)\n",
    "centroids = pd.DataFrame(kmeans.cluster_centers_, columns=features)\n",
    "centroids['Cluster'] = centroids.index\n",
    "order = (\n",
    "    centroids\n",
    "      .sort_values('Renewables (% electricity)')\n",
    "      .reset_index(drop=True)\n",
    "      .Cluster\n",
    "      .tolist()\n",
    ")\n",
    "\n",
    "labels = ['Very Low','Low','Medium','High','Very High']\n",
    "map_cluster = {cluster: labels[i] for i, cluster in enumerate(order)}\n",
    "\n",
    "df_country['Level_Label'] = df_country['Cluster'].map(map_cluster)\n"
   ]
  },
  {
   "cell_type": "code",
   "execution_count": 22,
   "metadata": {
    "colab": {
     "base_uri": "https://localhost:8080/",
     "height": 0
    },
    "executionInfo": {
     "elapsed": 622,
     "status": "ok",
     "timestamp": 1746537326119,
     "user": {
      "displayName": "Bg",
      "userId": "03634713841211245626"
     },
     "user_tz": -420
    },
    "id": "YyqbqenQKSd4",
    "outputId": "361af88f-67a4-40ba-9ff5-b1cb4830c0d7"
   },
   "outputs": [
    {
     "data": {
      "image/png": "[encoded data removed]",
      "text/plain": [
       "<Figure size 800x500 with 1 Axes>"
      ]
     },
     "metadata": {},
     "output_type": "display_data"
    }
   ],
   "source": [
    "plt.figure(figsize=(8,5))\n",
    "sns.scatterplot(\n",
    "    data=df_country,\n",
    "    x='Renewables (% electricity)',\n",
    "    y='Renewable electricity share of total electricity output (%) [4.1_SHARE.RE.IN.ELECTRICITY]',\n",
    "    hue='Level_Label',\n",
    "    palette='viridis'\n",
    ")\n",
    "plt.title(\"K‑Means Clusters of Countries (5 Levels)\")\n",
    "plt.xlabel(\"Renewables (% electricity)\")\n",
    "plt.ylabel(\"Renewable electricity share (%)\")\n",
    "plt.legend(title=\"Level\")\n",
    "plt.grid(True)\n",
    "plt.tight_layout()\n",
    "plt.show()\n"
   ]
  },
  {
   "cell_type": "code",
   "execution_count": 23,
   "metadata": {
    "colab": {
     "base_uri": "https://localhost:8080/"
    },
    "executionInfo": {
     "elapsed": 4,
     "status": "ok",
     "timestamp": 1746537326124,
     "user": {
      "displayName": "Bg",
      "userId": "03634713841211245626"
     },
     "user_tz": -420
    },
    "id": "B5nX-RlkKUHC",
    "outputId": "0242a3d4-c121-4cc6-e4d7-586e765b152b"
   },
   "outputs": [
    {
     "name": "stdout",
     "output_type": "stream",
     "text": [
      "\n",
      "Very Low Implementation (21 countries):\n",
      "Algeria, Australia, Belgium, Bulgaria, Cyprus, Hungary, Iraq, Israel, Kuwait, Malaysia, Netherlands, Oman, Poland, Qatar, Saudi Arabia, Singapore, South Africa, Thailand, Trinidad and Tobago, United Arab Emirates, United Kingdom\n",
      "\n",
      "Low Implementation (2 countries):\n",
      "Bangladesh, India\n",
      "\n",
      "Medium Implementation (2 countries):\n",
      "China, United States\n",
      "\n",
      "High Implementation (19 countries):\n",
      "Argentina, Denmark, Finland, France, Germany, Greece, Indonesia, Ireland, Italy, Japan, Luxembourg, Mexico, Morocco, Pakistan, Philippines, Portugal, Romania, Spain, Turkey\n",
      "\n",
      "Very High Implementation (14 countries):\n",
      "Austria, Brazil, Canada, Chile, Colombia, Ecuador, Iceland, New Zealand, Norway, Peru, Sri Lanka, Sweden, Switzerland, Vietnam\n"
     ]
    }
   ],
   "source": [
    "for lvl in labels:\n",
    "    group = df_country[df_country['Level_Label']==lvl]['Country'].sort_values()\n",
    "    print(f\"\\n{lvl} Implementation ({len(group)} countries):\")\n",
    "    print(\", \".join(group.tolist()))\n"
   ]
  },
  {
   "cell_type": "markdown",
   "metadata": {
    "id": "5iW3mzLQTf9j"
   },
   "source": [
    "# AbblomerativeClustering"
   ]
  },
  {
   "cell_type": "code",
   "execution_count": 24,
   "metadata": {
    "colab": {
     "base_uri": "https://localhost:8080/",
     "height": 0
    },
    "executionInfo": {
     "elapsed": 437,
     "status": "ok",
     "timestamp": 1746537327082,
     "user": {
      "displayName": "Bg",
      "userId": "03634713841211245626"
     },
     "user_tz": -420
    },
    "id": "FXfepXSJLTdv",
    "outputId": "04612cdd-feec-4df8-f78a-91e0bfe0e621"
   },
   "outputs": [
    {
     "name": "stdout",
     "output_type": "stream",
     "text": [
      "Silhouette Score: 0.423\n"
     ]
    },
    {
     "data": {
      "image/png": "[encoded data removed]",
      "text/plain": [
       "<Figure size 800x500 with 1 Axes>"
      ]
     },
     "metadata": {},
     "output_type": "display_data"
    },
    {
     "name": "stdout",
     "output_type": "stream",
     "text": [
      "\n",
      "Very Low Implementation (7 countries):\n",
      "Bangladesh, India, Indonesia, Morocco, Pakistan, Philippines, South Africa\n",
      "\n",
      "Low Implementation (17 countries):\n",
      "Argentina, Austria, Brazil, Canada, Chile, Colombia, Ecuador, Finland, New Zealand, Norway, Peru, Portugal, Romania, Sri Lanka, Sweden, Switzerland, Vietnam\n",
      "\n",
      "Medium Implementation (2 countries):\n",
      "Iceland, Trinidad and Tobago\n",
      "\n",
      "High Implementation (30 countries):\n",
      "Algeria, Australia, Belgium, Bulgaria, Cyprus, Denmark, France, Germany, Greece, Hungary, Iraq, Ireland, Israel, Italy, Japan, Kuwait, Luxembourg, Malaysia, Mexico, Netherlands, Oman, Poland, Qatar, Saudi Arabia, Singapore, Spain, Thailand, Turkey, United Arab Emirates, United Kingdom\n",
      "\n",
      "Very High Implementation (2 countries):\n",
      "China, United States\n"
     ]
    }
   ],
   "source": [
    "# Load dataset\n",
    "df = pd.read_csv('final.csv')\n",
    "\n",
    "# List of features\n",
    "features = [\n",
    "    'Access to electricity (% of total population) [1.1_ACCESS.ELECTRICITY.TOT]',\n",
    "    'Renewable electricity share of total electricity output (%) [4.1_SHARE.RE.IN.ELECTRICITY]',\n",
    "    'Energy intensity level of primary energy (MJ/2011 USD PPP) [6.1_PRIMARY.ENERGY.INTENSITY]',\n",
    "    'Renewable energy consumption (TJ) [3.1_RE.CONSUMPTION]',\n",
    "    'Total electricity output (GWh) [4.1.1_TOTAL.ELECTRICITY.OUTPUT]',\n",
    "    'Total final energy consumption (TFEC) (TJ) [1.1_TOTAL.FINAL.ENERGY.CONSUM]'\n",
    "]\n",
    "\n",
    "# Convert relevant columns to numeric, forcing errors to NaN\n",
    "df[features] = df[features].apply(pd.to_numeric, errors='coerce')\n",
    "\n",
    "# Drop rows with missing data in selected features\n",
    "df_cleaned = df.dropna(subset=features)\n",
    "\n",
    "# Group by country, compute average for each feature\n",
    "df_country = df_cleaned.groupby('Country')[features].mean().reset_index()\n",
    "\n",
    "# Normalize the data\n",
    "scaler = MinMaxScaler()\n",
    "X_scaled = scaler.fit_transform(df_country[features])\n",
    "\n",
    "# Apply Agglomerative Clustering with 5 clusters\n",
    "agg_clust = AgglomerativeClustering(n_clusters=5)\n",
    "df_country['Cluster'] = agg_clust.fit_predict(X_scaled)\n",
    "\n",
    "# Check Silhouette Score\n",
    "sil_score = silhouette_score(X_scaled, df_country['Cluster'])\n",
    "print(f\"Silhouette Score: {sil_score:.3f}\")\n",
    "\n",
    "# Sort clusters by renewable electricity share for interpretation\n",
    "df_country['Renewable electricity share of total electricity output (%) [4.1_SHARE.RE.IN.ELECTRICITY]'] = df_country[\n",
    "    'Renewable electricity share of total electricity output (%) [4.1_SHARE.RE.IN.ELECTRICITY]']\n",
    "\n",
    "label_map = {\n",
    "    0: 'Very Low',\n",
    "    1: 'Low',\n",
    "    2: 'Medium',\n",
    "    3: 'High',\n",
    "    4: 'Very High'\n",
    "}\n",
    "\n",
    "df_country['Level_Label'] = df_country['Cluster'].map(label_map)\n",
    "\n",
    "# Scatter plot to visualize clustering results\n",
    "plt.figure(figsize=(8, 5))\n",
    "sns.scatterplot(\n",
    "    data=df_country,\n",
    "    x='Renewable electricity share of total electricity output (%) [4.1_SHARE.RE.IN.ELECTRICITY]',\n",
    "    y='Access to electricity (% of total population) [1.1_ACCESS.ELECTRICITY.TOT]',\n",
    "    hue='Level_Label',\n",
    "    palette='viridis'\n",
    ")\n",
    "plt.title(\"Renewable Electricity vs. Access to Electricity by Cluster Level\")\n",
    "plt.xlabel(\"Renewable Electricity Share (%)\")\n",
    "plt.ylabel(\"Access to Electricity (%)\")\n",
    "plt.grid(True)\n",
    "plt.tight_layout()\n",
    "plt.show()\n",
    "\n",
    "# List countries by cluster level\n",
    "for label in ['Very Low', 'Low', 'Medium', 'High', 'Very High']:\n",
    "    countries = df_country[df_country['Level_Label'] == label]['Country'].tolist()\n",
    "    print(f\"\\n{label} Implementation ({len(countries)} countries):\")\n",
    "    print(', '.join(sorted(countries)))\n"
   ]
  },
  {
   "cell_type": "code",
   "execution_count": 25,
   "metadata": {
    "colab": {
     "base_uri": "https://localhost:8080/",
     "height": 0
    },
    "executionInfo": {
     "elapsed": 1904,
     "status": "ok",
     "timestamp": 1746537328987,
     "user": {
      "displayName": "Bg",
      "userId": "03634713841211245626"
     },
     "user_tz": -420
    },
    "id": "ZgHo8QDsLUN0",
    "outputId": "339b2994-259a-4337-a25a-8a32e0c1ecb3"
   },
   "outputs": [
    {
     "data": {
      "text/html": [
       "<html>\n",
       "<head><meta charset=\"utf-8\" /></head>\n",
       "<body>\n",
       "    <div>            <script src=\"https://cdnjs.cloudflare.com/ajax/libs/mathjax/2.7.5/MathJax.js?config=TeX-AMS-MML_SVG\"></script><script type=\"text/javascript\">if (window.MathJax && window.MathJax.Hub && window.MathJax.Hub.Config) {window.MathJax.Hub.Config({SVG: {font: \"STIX-Web\"}});}</script>                <script type=\"text/javascript\">window.PlotlyConfig = {MathJaxConfig: 'local'};</script>\n",
       "        <script charset=\"utf-8\" src=\"https://cdn.plot.ly/plotly-2.35.2.min.js\"></script>                <div id=\"7a1bc267-b708-4f4e-81d0-c5cf64e17cf6\" class=\"plotly-graph-div\" style=\"height:525px; width:100%;\"></div>            <script type=\"text/javascript\">                                    window.PLOTLYENV=window.PLOTLYENV || {};                                    if (document.getElementById(\"7a1bc267-b708-4f4e-81d0-c5cf64e17cf6\")) {                    Plotly.newPlot(                        \"7a1bc267-b708-4f4e-81d0-c5cf64e17cf6\",                        [],                        {\"template\":{\"data\":{\"histogram2dcontour\":[{\"type\":\"histogram2dcontour\",\"colorbar\":{\"outlinewidth\":0,\"ticks\":\"\"},\"colorscale\":[[0.0,\"#0d0887\"],[0.1111111111111111,\"#46039f\"],[0.2222222222222222,\"#7201a8\"],[0.3333333333333333,\"#9c179e\"],[0.4444444444444444,\"#bd3786\"],[0.5555555555555556,\"#d8576b\"],[0.6666666666666666,\"#ed7953\"],[0.7777777777777778,\"#fb9f3a\"],[0.8888888888888888,\"#fdca26\"],[1.0,\"#f0f921\"]]}],\"choropleth\":[{\"type\":\"choropleth\",\"colorbar\":{\"outlinewidth\":0,\"ticks\":\"\"}}],\"histogram2d\":[{\"type\":\"histogram2d\",\"colorbar\":{\"outlinewidth\":0,\"ticks\":\"\"},\"colorscale\":[[0.0,\"#0d0887\"],[0.1111111111111111,\"#46039f\"],[0.2222222222222222,\"#7201a8\"],[0.3333333333333333,\"#9c179e\"],[0.4444444444444444,\"#bd3786\"],[0.5555555555555556,\"#d8576b\"],[0.6666666666666666,\"#ed7953\"],[0.7777777777777778,\"#fb9f3a\"],[0.8888888888888888,\"#fdca26\"],[1.0,\"#f0f921\"]]}],\"heatmap\":[{\"type\":\"heatmap\",\"colorbar\":{\"outlinewidth\":0,\"ticks\":\"\"},\"colorscale\":[[0.0,\"#0d0887\"],[0.1111111111111111,\"#46039f\"],[0.2222222222222222,\"#7201a8\"],[0.3333333333333333,\"#9c179e\"],[0.4444444444444444,\"#bd3786\"],[0.5555555555555556,\"#d8576b\"],[0.6666666666666666,\"#ed7953\"],[0.7777777777777778,\"#fb9f3a\"],[0.8888888888888888,\"#fdca26\"],[1.0,\"#f0f921\"]]}],\"heatmapgl\":[{\"type\":\"heatmapgl\",\"colorbar\":{\"outlinewidth\":0,\"ticks\":\"\"},\"colorscale\":[[0.0,\"#0d0887\"],[0.1111111111111111,\"#46039f\"],[0.2222222222222222,\"#7201a8\"],[0.3333333333333333,\"#9c179e\"],[0.4444444444444444,\"#bd3786\"],[0.5555555555555556,\"#d8576b\"],[0.6666666666666666,\"#ed7953\"],[0.7777777777777778,\"#fb9f3a\"],[0.8888888888888888,\"#fdca26\"],[1.0,\"#f0f921\"]]}],\"contourcarpet\":[{\"type\":\"contourcarpet\",\"colorbar\":{\"outlinewidth\":0,\"ticks\":\"\"}}],\"contour\":[{\"type\":\"contour\",\"colorbar\":{\"outlinewidth\":0,\"ticks\":\"\"},\"colorscale\":[[0.0,\"#0d0887\"],[0.1111111111111111,\"#46039f\"],[0.2222222222222222,\"#7201a8\"],[0.3333333333333333,\"#9c179e\"],[0.4444444444444444,\"#bd3786\"],[0.5555555555555556,\"#d8576b\"],[0.6666666666666666,\"#ed7953\"],[0.7777777777777778,\"#fb9f3a\"],[0.8888888888888888,\"#fdca26\"],[1.0,\"#f0f921\"]]}],\"surface\":[{\"type\":\"surface\",\"colorbar\":{\"outlinewidth\":0,\"ticks\":\"\"},\"colorscale\":[[0.0,\"#0d0887\"],[0.1111111111111111,\"#46039f\"],[0.2222222222222222,\"#7201a8\"],[0.3333333333333333,\"#9c179e\"],[0.4444444444444444,\"#bd3786\"],[0.5555555555555556,\"#d8576b\"],[0.6666666666666666,\"#ed7953\"],[0.7777777777777778,\"#fb9f3a\"],[0.8888888888888888,\"#fdca26\"],[1.0,\"#f0f921\"]]}],\"mesh3d\":[{\"type\":\"mesh3d\",\"colorbar\":{\"outlinewidth\":0,\"ticks\":\"\"}}],\"scatter\":[{\"fillpattern\":{\"fillmode\":\"overlay\",\"size\":10,\"solidity\":0.2},\"type\":\"scatter\"}],\"parcoords\":[{\"type\":\"parcoords\",\"line\":{\"colorbar\":{\"outlinewidth\":0,\"ticks\":\"\"}}}],\"scatterpolargl\":[{\"type\":\"scatterpolargl\",\"marker\":{\"colorbar\":{\"outlinewidth\":0,\"ticks\":\"\"}}}],\"bar\":[{\"error_x\":{\"color\":\"#2a3f5f\"},\"error_y\":{\"color\":\"#2a3f5f\"},\"marker\":{\"line\":{\"color\":\"#E5ECF6\",\"width\":0.5},\"pattern\":{\"fillmode\":\"overlay\",\"size\":10,\"solidity\":0.2}},\"type\":\"bar\"}],\"scattergeo\":[{\"type\":\"scattergeo\",\"marker\":{\"colorbar\":{\"outlinewidth\":0,\"ticks\":\"\"}}}],\"scatterpolar\":[{\"type\":\"scatterpolar\",\"marker\":{\"colorbar\":{\"outlinewidth\":0,\"ticks\":\"\"}}}],\"histogram\":[{\"marker\":{\"pattern\":{\"fillmode\":\"overlay\",\"size\":10,\"solidity\":0.2}},\"type\":\"histogram\"}],\"scattergl\":[{\"type\":\"scattergl\",\"marker\":{\"colorbar\":{\"outlinewidth\":0,\"ticks\":\"\"}}}],\"scatter3d\":[{\"type\":\"scatter3d\",\"line\":{\"colorbar\":{\"outlinewidth\":0,\"ticks\":\"\"}},\"marker\":{\"colorbar\":{\"outlinewidth\":0,\"ticks\":\"\"}}}],\"scattermapbox\":[{\"type\":\"scattermapbox\",\"marker\":{\"colorbar\":{\"outlinewidth\":0,\"ticks\":\"\"}}}],\"scatterternary\":[{\"type\":\"scatterternary\",\"marker\":{\"colorbar\":{\"outlinewidth\":0,\"ticks\":\"\"}}}],\"scattercarpet\":[{\"type\":\"scattercarpet\",\"marker\":{\"colorbar\":{\"outlinewidth\":0,\"ticks\":\"\"}}}],\"carpet\":[{\"aaxis\":{\"endlinecolor\":\"#2a3f5f\",\"gridcolor\":\"white\",\"linecolor\":\"white\",\"minorgridcolor\":\"white\",\"startlinecolor\":\"#2a3f5f\"},\"baxis\":{\"endlinecolor\":\"#2a3f5f\",\"gridcolor\":\"white\",\"linecolor\":\"white\",\"minorgridcolor\":\"white\",\"startlinecolor\":\"#2a3f5f\"},\"type\":\"carpet\"}],\"table\":[{\"cells\":{\"fill\":{\"color\":\"#EBF0F8\"},\"line\":{\"color\":\"white\"}},\"header\":{\"fill\":{\"color\":\"#C8D4E3\"},\"line\":{\"color\":\"white\"}},\"type\":\"table\"}],\"barpolar\":[{\"marker\":{\"line\":{\"color\":\"#E5ECF6\",\"width\":0.5},\"pattern\":{\"fillmode\":\"overlay\",\"size\":10,\"solidity\":0.2}},\"type\":\"barpolar\"}],\"pie\":[{\"automargin\":true,\"type\":\"pie\"}]},\"layout\":{\"autotypenumbers\":\"strict\",\"colorway\":[\"#636efa\",\"#EF553B\",\"#00cc96\",\"#ab63fa\",\"#FFA15A\",\"#19d3f3\",\"#FF6692\",\"#B6E880\",\"#FF97FF\",\"#FECB52\"],\"font\":{\"color\":\"#2a3f5f\"},\"hovermode\":\"closest\",\"hoverlabel\":{\"align\":\"left\"},\"paper_bgcolor\":\"white\",\"plot_bgcolor\":\"#E5ECF6\",\"polar\":{\"bgcolor\":\"#E5ECF6\",\"angularaxis\":{\"gridcolor\":\"white\",\"linecolor\":\"white\",\"ticks\":\"\"},\"radialaxis\":{\"gridcolor\":\"white\",\"linecolor\":\"white\",\"ticks\":\"\"}},\"ternary\":{\"bgcolor\":\"#E5ECF6\",\"aaxis\":{\"gridcolor\":\"white\",\"linecolor\":\"white\",\"ticks\":\"\"},\"baxis\":{\"gridcolor\":\"white\",\"linecolor\":\"white\",\"ticks\":\"\"},\"caxis\":{\"gridcolor\":\"white\",\"linecolor\":\"white\",\"ticks\":\"\"}},\"coloraxis\":{\"colorbar\":{\"outlinewidth\":0,\"ticks\":\"\"}},\"colorscale\":{\"sequential\":[[0.0,\"#0d0887\"],[0.1111111111111111,\"#46039f\"],[0.2222222222222222,\"#7201a8\"],[0.3333333333333333,\"#9c179e\"],[0.4444444444444444,\"#bd3786\"],[0.5555555555555556,\"#d8576b\"],[0.6666666666666666,\"#ed7953\"],[0.7777777777777778,\"#fb9f3a\"],[0.8888888888888888,\"#fdca26\"],[1.0,\"#f0f921\"]],\"sequentialminus\":[[0.0,\"#0d0887\"],[0.1111111111111111,\"#46039f\"],[0.2222222222222222,\"#7201a8\"],[0.3333333333333333,\"#9c179e\"],[0.4444444444444444,\"#bd3786\"],[0.5555555555555556,\"#d8576b\"],[0.6666666666666666,\"#ed7953\"],[0.7777777777777778,\"#fb9f3a\"],[0.8888888888888888,\"#fdca26\"],[1.0,\"#f0f921\"]],\"diverging\":[[0,\"#8e0152\"],[0.1,\"#c51b7d\"],[0.2,\"#de77ae\"],[0.3,\"#f1b6da\"],[0.4,\"#fde0ef\"],[0.5,\"#f7f7f7\"],[0.6,\"#e6f5d0\"],[0.7,\"#b8e186\"],[0.8,\"#7fbc41\"],[0.9,\"#4d9221\"],[1,\"#276419\"]]},\"xaxis\":{\"gridcolor\":\"white\",\"linecolor\":\"white\",\"ticks\":\"\",\"title\":{\"standoff\":15},\"zerolinecolor\":\"white\",\"automargin\":true,\"zerolinewidth\":2},\"yaxis\":{\"gridcolor\":\"white\",\"linecolor\":\"white\",\"ticks\":\"\",\"title\":{\"standoff\":15},\"zerolinecolor\":\"white\",\"automargin\":true,\"zerolinewidth\":2},\"scene\":{\"xaxis\":{\"backgroundcolor\":\"#E5ECF6\",\"gridcolor\":\"white\",\"linecolor\":\"white\",\"showbackground\":true,\"ticks\":\"\",\"zerolinecolor\":\"white\",\"gridwidth\":2},\"yaxis\":{\"backgroundcolor\":\"#E5ECF6\",\"gridcolor\":\"white\",\"linecolor\":\"white\",\"showbackground\":true,\"ticks\":\"\",\"zerolinecolor\":\"white\",\"gridwidth\":2},\"zaxis\":{\"backgroundcolor\":\"#E5ECF6\",\"gridcolor\":\"white\",\"linecolor\":\"white\",\"showbackground\":true,\"ticks\":\"\",\"zerolinecolor\":\"white\",\"gridwidth\":2}},\"shapedefaults\":{\"line\":{\"color\":\"#2a3f5f\"}},\"annotationdefaults\":{\"arrowcolor\":\"#2a3f5f\",\"arrowhead\":0,\"arrowwidth\":1},\"geo\":{\"bgcolor\":\"white\",\"landcolor\":\"#E5ECF6\",\"subunitcolor\":\"white\",\"showland\":true,\"showlakes\":true,\"lakecolor\":\"white\"},\"title\":{\"x\":0.05},\"mapbox\":{\"style\":\"light\"}}},\"geo\":{\"domain\":{\"x\":[0.0,1.0],\"y\":[0.0,1.0]},\"projection\":{\"type\":\"natural earth\"},\"center\":{}},\"legend\":{\"tracegroupgap\":0,\"title\":{\"text\":\"Implementation Level\"}},\"title\":{\"text\":\"Global Renewable Energy Implementation (Agglomerative Clustering)\"}},                        {\"responsive\": true}                    ).then(function(){\n",
       "                            \n",
       "var gd = document.getElementById('7a1bc267-b708-4f4e-81d0-c5cf64e17cf6');\n",
       "var x = new MutationObserver(function (mutations, observer) {{\n",
       "        var display = window.getComputedStyle(gd).display;\n",
       "        if (!display || display === 'none') {{\n",
       "            console.log([gd, 'removed!']);\n",
       "            Plotly.purge(gd);\n",
       "            observer.disconnect();\n",
       "        }}\n",
       "}});\n",
       "\n",
       "// Listen for the removal of the full notebook cells\n",
       "var notebookContainer = gd.closest('#notebook-container');\n",
       "if (notebookContainer) {{\n",
       "    x.observe(notebookContainer, {childList: true});\n",
       "}}\n",
       "\n",
       "// Listen for the clearing of the current output cell\n",
       "var outputEl = gd.closest('.output');\n",
       "if (outputEl) {{\n",
       "    x.observe(outputEl, {childList: true});\n",
       "}}\n",
       "\n",
       "                        })                };                            </script>        </div>\n",
       "</body>\n",
       "</html>"
      ]
     },
     "metadata": {},
     "output_type": "display_data"
    }
   ],
   "source": [
    "\n",
    "\n",
    "# Add ISO Alpha-3 country codes dynamically\n",
    "def get_iso_code(country_name):\n",
    "    try:\n",
    "        return pycountry.countries.lookup(country_name).alpha_3\n",
    "    except:\n",
    "        return None\n",
    "\n",
    "df_country['ISO_Code'] = df_country['Country'].apply(get_iso_code)\n",
    "\n",
    "# Filter to only countries that successfully got ISO codes (some might not match exactly)\n",
    "df_mapped = df_country.dropna(subset=['ISO_Code'])\n",
    "\n",
    "# Plot the choropleth map\n",
    "fig = px.choropleth(\n",
    "    df_mapped,\n",
    "    locations='ISO_Code',\n",
    "    color='Level_Label',\n",
    "    hover_name='Country',\n",
    "    color_discrete_map={\n",
    "        'Very Low': '#540d6e',\n",
    "        'Low': '#ee4266',\n",
    "        'Medium': '#ffd23f',\n",
    "        'High': '#3bceac',\n",
    "        'Very High': '#0ead69'\n",
    "    },\n",
    "    title='Global Renewable Energy Implementation (Agglomerative Clustering)',\n",
    "    projection='natural earth'\n",
    ")\n",
    "\n",
    "fig.update_layout(legend_title_text='Implementation Level')\n",
    "fig.show()\n"
   ]
  },
  {
   "cell_type": "markdown",
   "metadata": {
    "id": "1Ez-8AjNTkUp"
   },
   "source": [
    "# Hybrid Clustering"
   ]
  },
  {
   "cell_type": "code",
   "execution_count": 26,
   "metadata": {
    "executionInfo": {
     "elapsed": 1,
     "status": "ok",
     "timestamp": 1746537328988,
     "user": {
      "displayName": "Bg",
      "userId": "03634713841211245626"
     },
     "user_tz": -420
    },
    "id": "HyUrhqtATmJS"
   },
   "outputs": [],
   "source": [
    "import pandas as pd\n",
    "import numpy as np\n",
    "import matplotlib.pyplot as plt\n",
    "import seaborn as sns\n",
    "\n",
    "from sklearn.preprocessing import MinMaxScaler\n",
    "from sklearn.cluster import AgglomerativeClustering, KMeans\n",
    "from sklearn.metrics import silhouette_score\n"
   ]
  },
  {
   "cell_type": "code",
   "execution_count": 27,
   "metadata": {
    "executionInfo": {
     "elapsed": 7,
     "status": "ok",
     "timestamp": 1746537328996,
     "user": {
      "displayName": "Bg",
      "userId": "03634713841211245626"
     },
     "user_tz": -420
    },
    "id": "y6Ce2LTkTqDY"
   },
   "outputs": [],
   "source": [
    "df = pd.read_csv('final.csv')\n",
    "\n",
    "features = [\n",
    "    'Renewables (% electricity)',\n",
    "    'Access to electricity (% of total population) [1.1_ACCESS.ELECTRICITY.TOT]',\n",
    "    'Renewable electricity share of total electricity output (%) [4.1_SHARE.RE.IN.ELECTRICITY]',\n",
    "    'Energy intensity level of primary energy (MJ/2011 USD PPP) [6.1_PRIMARY.ENERGY.INTENSITY]',\n",
    "    'Renewable energy consumption (TJ) [3.1_RE.CONSUMPTION]',\n",
    "    'Total electricity output (GWh) [4.1.1_TOTAL.ELECTRICITY.OUTPUT]',\n",
    "    'Total final energy consumption (TFEC) (TJ) [1.1_TOTAL.FINAL.ENERGY.CONSUM]'\n",
    "]\n",
    "\n",
    "# force numeric, drop NaNs\n",
    "df[features] = df[features].apply(pd.to_numeric, errors='coerce')\n",
    "df_clean = df.dropna(subset=features)\n"
   ]
  },
  {
   "cell_type": "code",
   "execution_count": 28,
   "metadata": {
    "executionInfo": {
     "elapsed": 63,
     "status": "ok",
     "timestamp": 1746537329061,
     "user": {
      "displayName": "Bg",
      "userId": "03634713841211245626"
     },
     "user_tz": -420
    },
    "id": "K-06bdsrTqef"
   },
   "outputs": [],
   "source": [
    "df_country = (\n",
    "    df_clean\n",
    "      .groupby('Country')[features]\n",
    "      .mean()\n",
    "      .reset_index()\n",
    ")\n"
   ]
  },
  {
   "cell_type": "code",
   "execution_count": 29,
   "metadata": {
    "executionInfo": {
     "elapsed": 61,
     "status": "ok",
     "timestamp": 1746537329067,
     "user": {
      "displayName": "Bg",
      "userId": "03634713841211245626"
     },
     "user_tz": -420
    },
    "id": "N807pSX-Tru8"
   },
   "outputs": [],
   "source": [
    "X = df_country[features].values\n",
    "X_scaled = MinMaxScaler().fit_transform(X)\n"
   ]
  },
  {
   "cell_type": "code",
   "execution_count": 30,
   "metadata": {
    "executionInfo": {
     "elapsed": 7,
     "status": "ok",
     "timestamp": 1746537329068,
     "user": {
      "displayName": "Bg",
      "userId": "03634713841211245626"
     },
     "user_tz": -420
    },
    "id": "jKa-tRQlTsw_"
   },
   "outputs": [],
   "source": [
    "micro = AgglomerativeClustering(n_clusters=50, linkage='ward')\n",
    "df_country['micro_label'] = micro.fit_predict(X_scaled)\n"
   ]
  },
  {
   "cell_type": "code",
   "execution_count": 31,
   "metadata": {
    "executionInfo": {
     "elapsed": 6,
     "status": "ok",
     "timestamp": 1746537329068,
     "user": {
      "displayName": "Bg",
      "userId": "03634713841211245626"
     },
     "user_tz": -420
    },
    "id": "sjKtAd26Tt8S"
   },
   "outputs": [],
   "source": [
    "micro_centroids = (\n",
    "    df_country\n",
    "      .groupby('micro_label')[features]\n",
    "      .mean()\n",
    "      .values\n",
    ")\n"
   ]
  },
  {
   "cell_type": "code",
   "execution_count": 32,
   "metadata": {
    "executionInfo": {
     "elapsed": 1,
     "status": "ok",
     "timestamp": 1746537329070,
     "user": {
      "displayName": "Bg",
      "userId": "03634713841211245626"
     },
     "user_tz": -420
    },
    "id": "KyCjhPuWTv7V"
   },
   "outputs": [],
   "source": [
    "# Step 7: cluster the 50 micro‑centroids into 5 “super‑clusters”\n",
    "km = KMeans(n_clusters=5, random_state=42)\n",
    "super_labels = km.fit_predict(micro_centroids)   # array length = 50\n",
    "\n",
    "# Step 8: Map each country to its super‑cluster via its micro_label\n",
    "# micro_label runs from 0…49, so we can directly index into super_labels\n",
    "mapping = {micro: super_labels[micro] for micro in range(len(super_labels))}\n",
    "\n",
    "# Now assign the final cluster to each country\n",
    "df_country['Cluster'] = df_country['micro_label'].map(mapping)\n"
   ]
  },
  {
   "cell_type": "code",
   "execution_count": 33,
   "metadata": {
    "colab": {
     "base_uri": "https://localhost:8080/"
    },
    "executionInfo": {
     "elapsed": 3,
     "status": "ok",
     "timestamp": 1746537329073,
     "user": {
      "displayName": "Bg",
      "userId": "03634713841211245626"
     },
     "user_tz": -420
    },
    "id": "A4l6O0W1TxL6",
    "outputId": "429494df-7d81-4dbe-83aa-a68380aa1049"
   },
   "outputs": [
    {
     "name": "stdout",
     "output_type": "stream",
     "text": [
      "Silhouette Score: -0.017\n"
     ]
    }
   ],
   "source": [
    "from sklearn.metrics import silhouette_score\n",
    "\n",
    "# Now that df_country['Cluster'] exists, this will work:\n",
    "sil = silhouette_score(X_scaled, df_country['Cluster'])\n",
    "print(\"Silhouette Score:\", round(sil, 3))\n"
   ]
  },
  {
   "cell_type": "code",
   "execution_count": 34,
   "metadata": {
    "colab": {
     "base_uri": "https://localhost:8080/",
     "height": 0
    },
    "executionInfo": {
     "elapsed": 269,
     "status": "ok",
     "timestamp": 1746537329379,
     "user": {
      "displayName": "Bg",
      "userId": "03634713841211245626"
     },
     "user_tz": -420
    },
    "id": "ZMfFSbZXUGKD",
    "outputId": "ddca4acd-4a71-45bc-9d67-da113c2083a9"
   },
   "outputs": [
    {
     "data": {
      "image/png": "[encoded data removed]",
      "text/plain": [
       "<Figure size 800x500 with 1 Axes>"
      ]
     },
     "metadata": {},
     "output_type": "display_data"
    }
   ],
   "source": [
    "import matplotlib.pyplot as plt\n",
    "import seaborn as sns\n",
    "\n",
    "# Optional: Map numeric clusters to meaningful labels for readability\n",
    "label_map = {\n",
    "    0: 'Very Low',\n",
    "    1: 'Low',\n",
    "    2: 'Medium',\n",
    "    3: 'High',\n",
    "    4: 'Very High'\n",
    "}\n",
    "df_country['Level_Label'] = df_country['Cluster'].map(label_map)\n",
    "\n",
    "# Scatter plot: renewable electricity vs access to electricity\n",
    "plt.figure(figsize=(8, 5))\n",
    "sns.scatterplot(\n",
    "    data=df_country,\n",
    "    x='Renewable electricity share of total electricity output (%) [4.1_SHARE.RE.IN.ELECTRICITY]',\n",
    "    y='Access to electricity (% of total population) [1.1_ACCESS.ELECTRICITY.TOT]',\n",
    "    hue='Level_Label',\n",
    "    palette='viridis'\n",
    ")\n",
    "plt.title(\"Renewable Electricity vs Access by Cluster Level\")\n",
    "plt.xlabel(\"Renewable Electricity Share (%)\")\n",
    "plt.ylabel(\"Access to Electricity (%)\")\n",
    "plt.grid(True)\n",
    "plt.tight_layout()\n",
    "plt.show()\n"
   ]
  },
  {
   "cell_type": "code",
   "execution_count": 35,
   "metadata": {
    "colab": {
     "base_uri": "https://localhost:8080/"
    },
    "executionInfo": {
     "elapsed": 3,
     "status": "ok",
     "timestamp": 1746537329383,
     "user": {
      "displayName": "Bg",
      "userId": "03634713841211245626"
     },
     "user_tz": -420
    },
    "id": "sARPpTwbUfrU",
    "outputId": "e9ec410b-a293-46d2-e2e3-57bfd575b7fc"
   },
   "outputs": [
    {
     "name": "stdout",
     "output_type": "stream",
     "text": [
      "\n",
      "Very Low Implementation (45 countries):\n",
      "Algeria, Argentina, Australia, Austria, Bangladesh, Belgium, Bulgaria, Chile, Colombia, Cyprus, Denmark, Ecuador, Finland, Greece, Hungary, Iceland, Iraq, Ireland, Israel, Kuwait, Luxembourg, Malaysia, Morocco, Netherlands, New Zealand, Norway, Oman, Pakistan, Peru, Philippines, Poland, Portugal, Qatar, Romania, Saudi Arabia, Singapore, South Africa, Sri Lanka, Sweden, Switzerland, Thailand, Trinidad and Tobago, Turkey, United Arab Emirates, Vietnam\n",
      "\n",
      "Low Implementation (1 countries):\n",
      "China\n",
      "\n",
      "Medium Implementation (1 countries):\n",
      "United States\n",
      "\n",
      "High Implementation (1 countries):\n",
      "India\n",
      "\n",
      "Very High Implementation (10 countries):\n",
      "Brazil, Canada, France, Germany, Indonesia, Italy, Japan, Mexico, Spain, United Kingdom\n"
     ]
    }
   ],
   "source": [
    "for label in ['Very Low', 'Low', 'Medium', 'High', 'Very High']:\n",
    "    countries = df_country[df_country['Level_Label'] == label]['Country'].tolist()\n",
    "    print(f\"\\n{label} Implementation ({len(countries)} countries):\")\n",
    "    print(', '.join(sorted(countries)))\n"
   ]
  },
  {
   "cell_type": "code",
   "execution_count": 36,
   "metadata": {
    "colab": {
     "base_uri": "https://localhost:8080/"
    },
    "executionInfo": {
     "elapsed": 2,
     "status": "ok",
     "timestamp": 1746537329386,
     "user": {
      "displayName": "Bg",
      "userId": "03634713841211245626"
     },
     "user_tz": -420
    },
    "id": "ypk6uvEwUiPa",
    "outputId": "16555e02-7294-4ef8-cc4e-8bf84776ed08"
   },
   "outputs": [
    {
     "name": "stdout",
     "output_type": "stream",
     "text": [
      "         Renewables (% electricity)  \\\n",
      "Cluster                               \n",
      "0                         26.028479   \n",
      "1                         17.964355   \n",
      "2                         10.357251   \n",
      "3                         15.371453   \n",
      "4                         27.463513   \n",
      "\n",
      "         Access to electricity (% of total population) [1.1_ACCESS.ELECTRICITY.TOT]  \\\n",
      "Cluster                                                                               \n",
      "0                                                95.220014                            \n",
      "1                                                97.855902                            \n",
      "2                                               100.000000                            \n",
      "3                                                67.702436                            \n",
      "4                                                98.457758                            \n",
      "\n",
      "         Renewable electricity share of total electricity output (%) [4.1_SHARE.RE.IN.ELECTRICITY]  \\\n",
      "Cluster                                                                                              \n",
      "0                                                25.894751                                           \n",
      "1                                                17.954985                                           \n",
      "2                                                10.052651                                           \n",
      "3                                                15.638999                                           \n",
      "4                                                26.679715                                           \n",
      "\n",
      "         Energy intensity level of primary energy (MJ/2011 USD PPP) [6.1_PRIMARY.ENERGY.INTENSITY]  \\\n",
      "Cluster                                                                                              \n",
      "0                                                 5.326246                                           \n",
      "1                                                 9.596336                                           \n",
      "2                                                 6.610549                                           \n",
      "3                                                 6.047186                                           \n",
      "4                                                 4.663775                                           \n",
      "\n",
      "         Renewable energy consumption (TJ) [3.1_RE.CONSUMPTION]  \\\n",
      "Cluster                                                           \n",
      "0                                             1.854753e+05        \n",
      "1                                             8.515477e+06        \n",
      "2                                             3.683303e+06        \n",
      "3                                             6.877674e+06        \n",
      "4                                             1.002690e+06        \n",
      "\n",
      "         Total electricity output (GWh) [4.1.1_TOTAL.ELECTRICITY.OUTPUT]  \\\n",
      "Cluster                                                                    \n",
      "0                                             6.961987e+04                 \n",
      "1                                             2.994619e+06                 \n",
      "2                                             4.116342e+06                 \n",
      "3                                             8.093981e+05                 \n",
      "4                                             4.567607e+05                 \n",
      "\n",
      "         Total final energy consumption (TFEC) (TJ) [1.1_TOTAL.FINAL.ENERGY.CONSUM]  \n",
      "Cluster                                                                              \n",
      "0                                             1.066971e+06                           \n",
      "1                                             4.794299e+07                           \n",
      "2                                             5.722261e+07                           \n",
      "3                                             1.545722e+07                           \n",
      "4                                             6.372549e+06                           \n"
     ]
    }
   ],
   "source": [
    "cluster_summary = df_country.groupby('Cluster')[features].mean()\n",
    "print(cluster_summary)\n"
   ]
  },
  {
   "cell_type": "code",
   "execution_count": 36,
   "metadata": {
    "executionInfo": {
     "elapsed": 1,
     "status": "ok",
     "timestamp": 1746537329387,
     "user": {
      "displayName": "Bg",
      "userId": "03634713841211245626"
     },
     "user_tz": -420
    },
    "id": "Y_vI_aWNUwwQ"
   },
   "outputs": [],
   "source": []
  },
  {
   "cell_type": "markdown",
   "metadata": {
    "id": "4J8HZ5USVQuy"
   },
   "source": [
    "# K-mean"
   ]
  },
  {
   "cell_type": "code",
   "execution_count": 44,
   "metadata": {
    "colab": {
     "base_uri": "https://localhost:8080/",
     "height": 805
    },
    "executionInfo": {
     "elapsed": 641,
     "status": "ok",
     "timestamp": 1746538027882,
     "user": {
      "displayName": "Bg",
      "userId": "03634713841211245626"
     },
     "user_tz": -420
    },
    "id": "xbawfMvQVTYQ",
    "outputId": "641cc016-4d72-427d-a184-bf48b29fab2d"
   },
   "outputs": [
    {
     "name": "stdout",
     "output_type": "stream",
     "text": [
      "Silhouette Score: 0.481\n"
     ]
    },
    {
     "data": {
      "image/png": "[encoded data removed]",
      "text/plain": [
       "<Figure size 800x500 with 1 Axes>"
      ]
     },
     "metadata": {},
     "output_type": "display_data"
    },
    {
     "name": "stdout",
     "output_type": "stream",
     "text": [
      "\n",
      "Very Low Implementation (1 countries):\n",
      "Trinidad and Tobago\n",
      "\n",
      "Low Implementation (2 countries):\n",
      "Bangladesh, India\n",
      "\n",
      "Medium Implementation (39 countries):\n",
      "Algeria, Argentina, Australia, Belgium, Bulgaria, Cyprus, Denmark, Finland, France, Germany, Greece, Hungary, Indonesia, Iraq, Ireland, Israel, Italy, Japan, Kuwait, Luxembourg, Malaysia, Mexico, Morocco, Netherlands, Oman, Pakistan, Philippines, Poland, Portugal, Qatar, Romania, Saudi Arabia, Singapore, South Africa, Spain, Thailand, Turkey, United Arab Emirates, United Kingdom\n",
      "\n",
      "High Implementation (2 countries):\n",
      "China, United States\n",
      "\n",
      "Very High Implementation (14 countries):\n",
      "Austria, Brazil, Canada, Chile, Colombia, Ecuador, Iceland, New Zealand, Norway, Peru, Sri Lanka, Sweden, Switzerland, Vietnam\n"
     ]
    }
   ],
   "source": [
    "# Load Dataset\n",
    "df = pd.read_csv('final.csv')\n",
    "\n",
    "# Selecting parameters\n",
    "features = [\n",
    "    'Access to electricity (% of total population) [1.1_ACCESS.ELECTRICITY.TOT]',\n",
    "    'Renewable electricity share of total electricity output (%) [4.1_SHARE.RE.IN.ELECTRICITY]',\n",
    "    'Energy intensity level of primary energy (MJ/2011 USD PPP) [6.1_PRIMARY.ENERGY.INTENSITY]',\n",
    "    'Renewable energy consumption (TJ) [3.1_RE.CONSUMPTION]',\n",
    "    'Total electricity output (GWh) [4.1.1_TOTAL.ELECTRICITY.OUTPUT]',\n",
    "    'Total final energy consumption (TFEC) (TJ) [1.1_TOTAL.FINAL.ENERGY.CONSUM]'\n",
    "]\n",
    "\n",
    "# Convert all parameters to numeric\n",
    "df[features] = df[features].apply(pd.to_numeric, errors='coerce')\n",
    "\n",
    "# Group by country\n",
    "df_country = df_cleaned.groupby('Country')[features].mean().reset_index()\n",
    "\n",
    "# Normalize the features\n",
    "scaler = MinMaxScaler()\n",
    "X_scaled = scaler.fit_transform(df_country[features])\n",
    "\n",
    "# Apply K-Means clustering\n",
    "kmeans = KMeans(n_clusters=5, random_state=42, n_init=10)\n",
    "df_country['Cluster'] = kmeans.fit_predict(X_scaled)\n",
    "\n",
    "# Order clusters by average renewable electricity share\n",
    "cluster_order = df_country.groupby('Cluster')[\n",
    "    'Renewable electricity share of total electricity output (%) [4.1_SHARE.RE.IN.ELECTRICITY]'\n",
    "].mean().sort_values().index.tolist()\n",
    "\n",
    "# Map ordered clusters to labels\n",
    "ordered_labels = {\n",
    "    cluster_order[i]: label for i, label in enumerate(['Very Low', 'Low', 'Medium', 'High', 'Very High'])\n",
    "}\n",
    "df_country['Level_Label'] = df_country['Cluster'].map(ordered_labels)\n",
    "\n",
    "# Silhouette Score\n",
    "sil_score = silhouette_score(X_scaled, df_country['Cluster'])\n",
    "print(f\"Silhouette Score: {sil_score:.3f}\")\n",
    "\n",
    "# Visualizing overall clusters\n",
    "plt.figure(figsize=(8, 5))\n",
    "sns.scatterplot(\n",
    "    data=df_country,\n",
    "    x='Renewable electricity share of total electricity output (%) [4.1_SHARE.RE.IN.ELECTRICITY]',\n",
    "    y='Access to electricity (% of total population) [1.1_ACCESS.ELECTRICITY.TOT]',\n",
    "    hue='Level_Label',\n",
    "    palette='viridis'\n",
    ")\n",
    "plt.title(\"K-Means Clustering: Renewable Electricity vs. Access\")\n",
    "plt.xlabel(\"Renewable Electricity Share (%)\")\n",
    "plt.ylabel(\"Access to Electricity (%)\")\n",
    "plt.grid(True)\n",
    "plt.tight_layout()\n",
    "plt.show()\n",
    "\n",
    "# Print countries in each implementation level\n",
    "for label in ['Very Low', 'Low', 'Medium', 'High', 'Very High']:\n",
    "    countries = df_country[df_country['Level_Label'] == label]['Country'].tolist()\n",
    "    print(f\"\\n{label} Implementation ({len(countries)} countries):\")\n",
    "    print(', '.join(sorted(countries)))\n"
   ]
  },
  {
   "cell_type": "code",
   "execution_count": 38,
   "metadata": {
    "colab": {
     "base_uri": "https://localhost:8080/",
     "height": 542
    },
    "executionInfo": {
     "elapsed": 33,
     "status": "ok",
     "timestamp": 1746537329747,
     "user": {
      "displayName": "Bg",
      "userId": "03634713841211245626"
     },
     "user_tz": -420
    },
    "id": "fYt4pDYpVT4M",
    "outputId": "d692efff-c254-46b1-bf71-c2b0261105d2"
   },
   "outputs": [
    {
     "data": {
      "text/html": [
       "<html>\n",
       "<head><meta charset=\"utf-8\" /></head>\n",
       "<body>\n",
       "    <div>            <script src=\"https://cdnjs.cloudflare.com/ajax/libs/mathjax/2.7.5/MathJax.js?config=TeX-AMS-MML_SVG\"></script><script type=\"text/javascript\">if (window.MathJax && window.MathJax.Hub && window.MathJax.Hub.Config) {window.MathJax.Hub.Config({SVG: {font: \"STIX-Web\"}});}</script>                <script type=\"text/javascript\">window.PlotlyConfig = {MathJaxConfig: 'local'};</script>\n",
       "        <script charset=\"utf-8\" src=\"https://cdn.plot.ly/plotly-2.35.2.min.js\"></script>                <div id=\"a12ce302-3d41-4da7-b75f-8542d9afeed0\" class=\"plotly-graph-div\" style=\"height:525px; width:100%;\"></div>            <script type=\"text/javascript\">                                    window.PLOTLYENV=window.PLOTLYENV || {};                                    if (document.getElementById(\"a12ce302-3d41-4da7-b75f-8542d9afeed0\")) {                    Plotly.newPlot(                        \"a12ce302-3d41-4da7-b75f-8542d9afeed0\",                        [],                        {\"template\":{\"data\":{\"histogram2dcontour\":[{\"type\":\"histogram2dcontour\",\"colorbar\":{\"outlinewidth\":0,\"ticks\":\"\"},\"colorscale\":[[0.0,\"#0d0887\"],[0.1111111111111111,\"#46039f\"],[0.2222222222222222,\"#7201a8\"],[0.3333333333333333,\"#9c179e\"],[0.4444444444444444,\"#bd3786\"],[0.5555555555555556,\"#d8576b\"],[0.6666666666666666,\"#ed7953\"],[0.7777777777777778,\"#fb9f3a\"],[0.8888888888888888,\"#fdca26\"],[1.0,\"#f0f921\"]]}],\"choropleth\":[{\"type\":\"choropleth\",\"colorbar\":{\"outlinewidth\":0,\"ticks\":\"\"}}],\"histogram2d\":[{\"type\":\"histogram2d\",\"colorbar\":{\"outlinewidth\":0,\"ticks\":\"\"},\"colorscale\":[[0.0,\"#0d0887\"],[0.1111111111111111,\"#46039f\"],[0.2222222222222222,\"#7201a8\"],[0.3333333333333333,\"#9c179e\"],[0.4444444444444444,\"#bd3786\"],[0.5555555555555556,\"#d8576b\"],[0.6666666666666666,\"#ed7953\"],[0.7777777777777778,\"#fb9f3a\"],[0.8888888888888888,\"#fdca26\"],[1.0,\"#f0f921\"]]}],\"heatmap\":[{\"type\":\"heatmap\",\"colorbar\":{\"outlinewidth\":0,\"ticks\":\"\"},\"colorscale\":[[0.0,\"#0d0887\"],[0.1111111111111111,\"#46039f\"],[0.2222222222222222,\"#7201a8\"],[0.3333333333333333,\"#9c179e\"],[0.4444444444444444,\"#bd3786\"],[0.5555555555555556,\"#d8576b\"],[0.6666666666666666,\"#ed7953\"],[0.7777777777777778,\"#fb9f3a\"],[0.8888888888888888,\"#fdca26\"],[1.0,\"#f0f921\"]]}],\"heatmapgl\":[{\"type\":\"heatmapgl\",\"colorbar\":{\"outlinewidth\":0,\"ticks\":\"\"},\"colorscale\":[[0.0,\"#0d0887\"],[0.1111111111111111,\"#46039f\"],[0.2222222222222222,\"#7201a8\"],[0.3333333333333333,\"#9c179e\"],[0.4444444444444444,\"#bd3786\"],[0.5555555555555556,\"#d8576b\"],[0.6666666666666666,\"#ed7953\"],[0.7777777777777778,\"#fb9f3a\"],[0.8888888888888888,\"#fdca26\"],[1.0,\"#f0f921\"]]}],\"contourcarpet\":[{\"type\":\"contourcarpet\",\"colorbar\":{\"outlinewidth\":0,\"ticks\":\"\"}}],\"contour\":[{\"type\":\"contour\",\"colorbar\":{\"outlinewidth\":0,\"ticks\":\"\"},\"colorscale\":[[0.0,\"#0d0887\"],[0.1111111111111111,\"#46039f\"],[0.2222222222222222,\"#7201a8\"],[0.3333333333333333,\"#9c179e\"],[0.4444444444444444,\"#bd3786\"],[0.5555555555555556,\"#d8576b\"],[0.6666666666666666,\"#ed7953\"],[0.7777777777777778,\"#fb9f3a\"],[0.8888888888888888,\"#fdca26\"],[1.0,\"#f0f921\"]]}],\"surface\":[{\"type\":\"surface\",\"colorbar\":{\"outlinewidth\":0,\"ticks\":\"\"},\"colorscale\":[[0.0,\"#0d0887\"],[0.1111111111111111,\"#46039f\"],[0.2222222222222222,\"#7201a8\"],[0.3333333333333333,\"#9c179e\"],[0.4444444444444444,\"#bd3786\"],[0.5555555555555556,\"#d8576b\"],[0.6666666666666666,\"#ed7953\"],[0.7777777777777778,\"#fb9f3a\"],[0.8888888888888888,\"#fdca26\"],[1.0,\"#f0f921\"]]}],\"mesh3d\":[{\"type\":\"mesh3d\",\"colorbar\":{\"outlinewidth\":0,\"ticks\":\"\"}}],\"scatter\":[{\"fillpattern\":{\"fillmode\":\"overlay\",\"size\":10,\"solidity\":0.2},\"type\":\"scatter\"}],\"parcoords\":[{\"type\":\"parcoords\",\"line\":{\"colorbar\":{\"outlinewidth\":0,\"ticks\":\"\"}}}],\"scatterpolargl\":[{\"type\":\"scatterpolargl\",\"marker\":{\"colorbar\":{\"outlinewidth\":0,\"ticks\":\"\"}}}],\"bar\":[{\"error_x\":{\"color\":\"#2a3f5f\"},\"error_y\":{\"color\":\"#2a3f5f\"},\"marker\":{\"line\":{\"color\":\"#E5ECF6\",\"width\":0.5},\"pattern\":{\"fillmode\":\"overlay\",\"size\":10,\"solidity\":0.2}},\"type\":\"bar\"}],\"scattergeo\":[{\"type\":\"scattergeo\",\"marker\":{\"colorbar\":{\"outlinewidth\":0,\"ticks\":\"\"}}}],\"scatterpolar\":[{\"type\":\"scatterpolar\",\"marker\":{\"colorbar\":{\"outlinewidth\":0,\"ticks\":\"\"}}}],\"histogram\":[{\"marker\":{\"pattern\":{\"fillmode\":\"overlay\",\"size\":10,\"solidity\":0.2}},\"type\":\"histogram\"}],\"scattergl\":[{\"type\":\"scattergl\",\"marker\":{\"colorbar\":{\"outlinewidth\":0,\"ticks\":\"\"}}}],\"scatter3d\":[{\"type\":\"scatter3d\",\"line\":{\"colorbar\":{\"outlinewidth\":0,\"ticks\":\"\"}},\"marker\":{\"colorbar\":{\"outlinewidth\":0,\"ticks\":\"\"}}}],\"scattermapbox\":[{\"type\":\"scattermapbox\",\"marker\":{\"colorbar\":{\"outlinewidth\":0,\"ticks\":\"\"}}}],\"scatterternary\":[{\"type\":\"scatterternary\",\"marker\":{\"colorbar\":{\"outlinewidth\":0,\"ticks\":\"\"}}}],\"scattercarpet\":[{\"type\":\"scattercarpet\",\"marker\":{\"colorbar\":{\"outlinewidth\":0,\"ticks\":\"\"}}}],\"carpet\":[{\"aaxis\":{\"endlinecolor\":\"#2a3f5f\",\"gridcolor\":\"white\",\"linecolor\":\"white\",\"minorgridcolor\":\"white\",\"startlinecolor\":\"#2a3f5f\"},\"baxis\":{\"endlinecolor\":\"#2a3f5f\",\"gridcolor\":\"white\",\"linecolor\":\"white\",\"minorgridcolor\":\"white\",\"startlinecolor\":\"#2a3f5f\"},\"type\":\"carpet\"}],\"table\":[{\"cells\":{\"fill\":{\"color\":\"#EBF0F8\"},\"line\":{\"color\":\"white\"}},\"header\":{\"fill\":{\"color\":\"#C8D4E3\"},\"line\":{\"color\":\"white\"}},\"type\":\"table\"}],\"barpolar\":[{\"marker\":{\"line\":{\"color\":\"#E5ECF6\",\"width\":0.5},\"pattern\":{\"fillmode\":\"overlay\",\"size\":10,\"solidity\":0.2}},\"type\":\"barpolar\"}],\"pie\":[{\"automargin\":true,\"type\":\"pie\"}]},\"layout\":{\"autotypenumbers\":\"strict\",\"colorway\":[\"#636efa\",\"#EF553B\",\"#00cc96\",\"#ab63fa\",\"#FFA15A\",\"#19d3f3\",\"#FF6692\",\"#B6E880\",\"#FF97FF\",\"#FECB52\"],\"font\":{\"color\":\"#2a3f5f\"},\"hovermode\":\"closest\",\"hoverlabel\":{\"align\":\"left\"},\"paper_bgcolor\":\"white\",\"plot_bgcolor\":\"#E5ECF6\",\"polar\":{\"bgcolor\":\"#E5ECF6\",\"angularaxis\":{\"gridcolor\":\"white\",\"linecolor\":\"white\",\"ticks\":\"\"},\"radialaxis\":{\"gridcolor\":\"white\",\"linecolor\":\"white\",\"ticks\":\"\"}},\"ternary\":{\"bgcolor\":\"#E5ECF6\",\"aaxis\":{\"gridcolor\":\"white\",\"linecolor\":\"white\",\"ticks\":\"\"},\"baxis\":{\"gridcolor\":\"white\",\"linecolor\":\"white\",\"ticks\":\"\"},\"caxis\":{\"gridcolor\":\"white\",\"linecolor\":\"white\",\"ticks\":\"\"}},\"coloraxis\":{\"colorbar\":{\"outlinewidth\":0,\"ticks\":\"\"}},\"colorscale\":{\"sequential\":[[0.0,\"#0d0887\"],[0.1111111111111111,\"#46039f\"],[0.2222222222222222,\"#7201a8\"],[0.3333333333333333,\"#9c179e\"],[0.4444444444444444,\"#bd3786\"],[0.5555555555555556,\"#d8576b\"],[0.6666666666666666,\"#ed7953\"],[0.7777777777777778,\"#fb9f3a\"],[0.8888888888888888,\"#fdca26\"],[1.0,\"#f0f921\"]],\"sequentialminus\":[[0.0,\"#0d0887\"],[0.1111111111111111,\"#46039f\"],[0.2222222222222222,\"#7201a8\"],[0.3333333333333333,\"#9c179e\"],[0.4444444444444444,\"#bd3786\"],[0.5555555555555556,\"#d8576b\"],[0.6666666666666666,\"#ed7953\"],[0.7777777777777778,\"#fb9f3a\"],[0.8888888888888888,\"#fdca26\"],[1.0,\"#f0f921\"]],\"diverging\":[[0,\"#8e0152\"],[0.1,\"#c51b7d\"],[0.2,\"#de77ae\"],[0.3,\"#f1b6da\"],[0.4,\"#fde0ef\"],[0.5,\"#f7f7f7\"],[0.6,\"#e6f5d0\"],[0.7,\"#b8e186\"],[0.8,\"#7fbc41\"],[0.9,\"#4d9221\"],[1,\"#276419\"]]},\"xaxis\":{\"gridcolor\":\"white\",\"linecolor\":\"white\",\"ticks\":\"\",\"title\":{\"standoff\":15},\"zerolinecolor\":\"white\",\"automargin\":true,\"zerolinewidth\":2},\"yaxis\":{\"gridcolor\":\"white\",\"linecolor\":\"white\",\"ticks\":\"\",\"title\":{\"standoff\":15},\"zerolinecolor\":\"white\",\"automargin\":true,\"zerolinewidth\":2},\"scene\":{\"xaxis\":{\"backgroundcolor\":\"#E5ECF6\",\"gridcolor\":\"white\",\"linecolor\":\"white\",\"showbackground\":true,\"ticks\":\"\",\"zerolinecolor\":\"white\",\"gridwidth\":2},\"yaxis\":{\"backgroundcolor\":\"#E5ECF6\",\"gridcolor\":\"white\",\"linecolor\":\"white\",\"showbackground\":true,\"ticks\":\"\",\"zerolinecolor\":\"white\",\"gridwidth\":2},\"zaxis\":{\"backgroundcolor\":\"#E5ECF6\",\"gridcolor\":\"white\",\"linecolor\":\"white\",\"showbackground\":true,\"ticks\":\"\",\"zerolinecolor\":\"white\",\"gridwidth\":2}},\"shapedefaults\":{\"line\":{\"color\":\"#2a3f5f\"}},\"annotationdefaults\":{\"arrowcolor\":\"#2a3f5f\",\"arrowhead\":0,\"arrowwidth\":1},\"geo\":{\"bgcolor\":\"white\",\"landcolor\":\"#E5ECF6\",\"subunitcolor\":\"white\",\"showland\":true,\"showlakes\":true,\"lakecolor\":\"white\"},\"title\":{\"x\":0.05},\"mapbox\":{\"style\":\"light\"}}},\"geo\":{\"domain\":{\"x\":[0.0,1.0],\"y\":[0.0,1.0]},\"projection\":{\"type\":\"natural earth\"},\"center\":{}},\"legend\":{\"tracegroupgap\":0,\"title\":{\"text\":\"Implementation Level\"}},\"title\":{\"text\":\"Global Renewable Energy Implementation (K-Means Clustering)\"}},                        {\"responsive\": true}                    ).then(function(){\n",
       "                            \n",
       "var gd = document.getElementById('a12ce302-3d41-4da7-b75f-8542d9afeed0');\n",
       "var x = new MutationObserver(function (mutations, observer) {{\n",
       "        var display = window.getComputedStyle(gd).display;\n",
       "        if (!display || display === 'none') {{\n",
       "            console.log([gd, 'removed!']);\n",
       "            Plotly.purge(gd);\n",
       "            observer.disconnect();\n",
       "        }}\n",
       "}});\n",
       "\n",
       "// Listen for the removal of the full notebook cells\n",
       "var notebookContainer = gd.closest('#notebook-container');\n",
       "if (notebookContainer) {{\n",
       "    x.observe(notebookContainer, {childList: true});\n",
       "}}\n",
       "\n",
       "// Listen for the clearing of the current output cell\n",
       "var outputEl = gd.closest('.output');\n",
       "if (outputEl) {{\n",
       "    x.observe(outputEl, {childList: true});\n",
       "}}\n",
       "\n",
       "                        })                };                            </script>        </div>\n",
       "</body>\n",
       "</html>"
      ]
     },
     "metadata": {},
     "output_type": "display_data"
    }
   ],
   "source": [
    "# Assign ISO codes dynamically\n",
    "def get_iso_code(country_name):\n",
    "    try:\n",
    "        return pycountry.countries.lookup(country_name).alpha_3\n",
    "    except:\n",
    "        return None\n",
    "\n",
    "df_country['ISO_Code'] = df_country['Country'].apply(get_iso_code)\n",
    "\n",
    "# Drop countries with no ISO codes (e.g., lookup failures)\n",
    "df_mapped = df_country.dropna(subset=['ISO_Code'])\n",
    "\n",
    "# Plot map\n",
    "fig = px.choropleth(\n",
    "    df_mapped,\n",
    "    locations='ISO_Code',\n",
    "    color='Level_Label',\n",
    "    hover_name='Country',\n",
    "    color_discrete_map={\n",
    "        'Very Low': '#540d6e',\n",
    "        'Low': '#ee4266',\n",
    "        'Medium': '#ffd23f',\n",
    "        'High': '#3bceac',\n",
    "        'Very High': '#0ead69'\n",
    "    },\n",
    "    title='Global Renewable Energy Implementation (K-Means Clustering)',\n",
    "    projection='natural earth'\n",
    ")\n",
    "\n",
    "fig.update_layout(legend_title_text='Implementation Level')\n",
    "fig.show()\n"
   ]
  }
 ],
 "metadata": {
  "colab": {
   "provenance": []
  },
  "kernelspec": {
   "display_name": ".conda",
   "language": "python",
   "name": "python3"
  },
  "language_info": {
   "codemirror_mode": {
    "name": "ipython",
    "version": 3
   },
   "file_extension": ".py",
   "mimetype": "text/x-python",
   "name": "python",
   "nbconvert_exporter": "python",
   "pygments_lexer": "ipython3",
   "version": "3.11.11"
  }
 },
 "nbformat": 4,
 "nbformat_minor": 0
}
