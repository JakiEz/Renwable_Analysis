{
  "cells": [
    {
      "cell_type": "code",
      "execution_count": 4,
      "metadata": {
        "colab": {
          "base_uri": "https://localhost:8080/",
          "height": 478
        },
        "id": "8eMMM26z9Akf",
        "outputId": "c6fae5df-db0e-42fb-9d60-7411cff652e2"
      },
      "outputs": [
        {
          "ename": "FileNotFoundError",
          "evalue": "[Errno 2] No such file or directory: '../datsets/clean_renewables_1985_2021.csv'",
          "output_type": "error",
          "traceback": [
            "\u001b[1;31m---------------------------------------------------------------------------\u001b[0m",
            "\u001b[1;31mFileNotFoundError\u001b[0m                         Traceback (most recent call last)",
            "Cell \u001b[1;32mIn[4], line 9\u001b[0m\n\u001b[0;32m      5\u001b[0m \u001b[38;5;28;01mfrom\u001b[39;00m \u001b[38;5;21;01mstatsmodels\u001b[39;00m\u001b[38;5;21;01m.\u001b[39;00m\u001b[38;5;21;01mgraphics\u001b[39;00m\u001b[38;5;21;01m.\u001b[39;00m\u001b[38;5;21;01mtsaplots\u001b[39;00m \u001b[38;5;28;01mimport\u001b[39;00m plot_acf, plot_pacf\n\u001b[0;32m      6\u001b[0m \u001b[38;5;28;01mfrom\u001b[39;00m \u001b[38;5;21;01mstatsmodels\u001b[39;00m\u001b[38;5;21;01m.\u001b[39;00m\u001b[38;5;21;01mtsa\u001b[39;00m\u001b[38;5;21;01m.\u001b[39;00m\u001b[38;5;21;01mstattools\u001b[39;00m \u001b[38;5;28;01mimport\u001b[39;00m adfuller\n\u001b[1;32m----> 9\u001b[0m df \u001b[38;5;241m=\u001b[39m pd\u001b[38;5;241m.\u001b[39mread_csv(\u001b[38;5;124m'\u001b[39m\u001b[38;5;124m../datsets/clean_renewables_1985_2021.csv\u001b[39m\u001b[38;5;124m'\u001b[39m)\n\u001b[0;32m     11\u001b[0m global_data \u001b[38;5;241m=\u001b[39m df[df[\u001b[38;5;124m'\u001b[39m\u001b[38;5;124mEntity\u001b[39m\u001b[38;5;124m'\u001b[39m] \u001b[38;5;241m==\u001b[39m \u001b[38;5;124m'\u001b[39m\u001b[38;5;124mWorld\u001b[39m\u001b[38;5;124m'\u001b[39m]\u001b[38;5;241m.\u001b[39mcopy()\n\u001b[0;32m     14\u001b[0m global_data[\u001b[38;5;124m'\u001b[39m\u001b[38;5;124mYear\u001b[39m\u001b[38;5;124m'\u001b[39m] \u001b[38;5;241m=\u001b[39m pd\u001b[38;5;241m.\u001b[39mPeriodIndex(global_data[\u001b[38;5;124m'\u001b[39m\u001b[38;5;124mYear\u001b[39m\u001b[38;5;124m'\u001b[39m]\u001b[38;5;241m.\u001b[39mastype(\u001b[38;5;28mstr\u001b[39m), freq\u001b[38;5;241m=\u001b[39m\u001b[38;5;124m'\u001b[39m\u001b[38;5;124mY\u001b[39m\u001b[38;5;124m'\u001b[39m)\n",
            "File \u001b[1;32mc:\\Users\\Jacki\\anaconda3\\Lib\\site-packages\\pandas\\io\\parsers\\readers.py:1026\u001b[0m, in \u001b[0;36mread_csv\u001b[1;34m(filepath_or_buffer, sep, delimiter, header, names, index_col, usecols, dtype, engine, converters, true_values, false_values, skipinitialspace, skiprows, skipfooter, nrows, na_values, keep_default_na, na_filter, verbose, skip_blank_lines, parse_dates, infer_datetime_format, keep_date_col, date_parser, date_format, dayfirst, cache_dates, iterator, chunksize, compression, thousands, decimal, lineterminator, quotechar, quoting, doublequote, escapechar, comment, encoding, encoding_errors, dialect, on_bad_lines, delim_whitespace, low_memory, memory_map, float_precision, storage_options, dtype_backend)\u001b[0m\n\u001b[0;32m   1013\u001b[0m kwds_defaults \u001b[38;5;241m=\u001b[39m _refine_defaults_read(\n\u001b[0;32m   1014\u001b[0m     dialect,\n\u001b[0;32m   1015\u001b[0m     delimiter,\n\u001b[1;32m   (...)\u001b[0m\n\u001b[0;32m   1022\u001b[0m     dtype_backend\u001b[38;5;241m=\u001b[39mdtype_backend,\n\u001b[0;32m   1023\u001b[0m )\n\u001b[0;32m   1024\u001b[0m kwds\u001b[38;5;241m.\u001b[39mupdate(kwds_defaults)\n\u001b[1;32m-> 1026\u001b[0m \u001b[38;5;28;01mreturn\u001b[39;00m _read(filepath_or_buffer, kwds)\n",
            "File \u001b[1;32mc:\\Users\\Jacki\\anaconda3\\Lib\\site-packages\\pandas\\io\\parsers\\readers.py:620\u001b[0m, in \u001b[0;36m_read\u001b[1;34m(filepath_or_buffer, kwds)\u001b[0m\n\u001b[0;32m    617\u001b[0m _validate_names(kwds\u001b[38;5;241m.\u001b[39mget(\u001b[38;5;124m\"\u001b[39m\u001b[38;5;124mnames\u001b[39m\u001b[38;5;124m\"\u001b[39m, \u001b[38;5;28;01mNone\u001b[39;00m))\n\u001b[0;32m    619\u001b[0m \u001b[38;5;66;03m# Create the parser.\u001b[39;00m\n\u001b[1;32m--> 620\u001b[0m parser \u001b[38;5;241m=\u001b[39m TextFileReader(filepath_or_buffer, \u001b[38;5;241m*\u001b[39m\u001b[38;5;241m*\u001b[39mkwds)\n\u001b[0;32m    622\u001b[0m \u001b[38;5;28;01mif\u001b[39;00m chunksize \u001b[38;5;129;01mor\u001b[39;00m iterator:\n\u001b[0;32m    623\u001b[0m     \u001b[38;5;28;01mreturn\u001b[39;00m parser\n",
            "File \u001b[1;32mc:\\Users\\Jacki\\anaconda3\\Lib\\site-packages\\pandas\\io\\parsers\\readers.py:1620\u001b[0m, in \u001b[0;36mTextFileReader.__init__\u001b[1;34m(self, f, engine, **kwds)\u001b[0m\n\u001b[0;32m   1617\u001b[0m     \u001b[38;5;28mself\u001b[39m\u001b[38;5;241m.\u001b[39moptions[\u001b[38;5;124m\"\u001b[39m\u001b[38;5;124mhas_index_names\u001b[39m\u001b[38;5;124m\"\u001b[39m] \u001b[38;5;241m=\u001b[39m kwds[\u001b[38;5;124m\"\u001b[39m\u001b[38;5;124mhas_index_names\u001b[39m\u001b[38;5;124m\"\u001b[39m]\n\u001b[0;32m   1619\u001b[0m \u001b[38;5;28mself\u001b[39m\u001b[38;5;241m.\u001b[39mhandles: IOHandles \u001b[38;5;241m|\u001b[39m \u001b[38;5;28;01mNone\u001b[39;00m \u001b[38;5;241m=\u001b[39m \u001b[38;5;28;01mNone\u001b[39;00m\n\u001b[1;32m-> 1620\u001b[0m \u001b[38;5;28mself\u001b[39m\u001b[38;5;241m.\u001b[39m_engine \u001b[38;5;241m=\u001b[39m \u001b[38;5;28mself\u001b[39m\u001b[38;5;241m.\u001b[39m_make_engine(f, \u001b[38;5;28mself\u001b[39m\u001b[38;5;241m.\u001b[39mengine)\n",
            "File \u001b[1;32mc:\\Users\\Jacki\\anaconda3\\Lib\\site-packages\\pandas\\io\\parsers\\readers.py:1880\u001b[0m, in \u001b[0;36mTextFileReader._make_engine\u001b[1;34m(self, f, engine)\u001b[0m\n\u001b[0;32m   1878\u001b[0m     \u001b[38;5;28;01mif\u001b[39;00m \u001b[38;5;124m\"\u001b[39m\u001b[38;5;124mb\u001b[39m\u001b[38;5;124m\"\u001b[39m \u001b[38;5;129;01mnot\u001b[39;00m \u001b[38;5;129;01min\u001b[39;00m mode:\n\u001b[0;32m   1879\u001b[0m         mode \u001b[38;5;241m+\u001b[39m\u001b[38;5;241m=\u001b[39m \u001b[38;5;124m\"\u001b[39m\u001b[38;5;124mb\u001b[39m\u001b[38;5;124m\"\u001b[39m\n\u001b[1;32m-> 1880\u001b[0m \u001b[38;5;28mself\u001b[39m\u001b[38;5;241m.\u001b[39mhandles \u001b[38;5;241m=\u001b[39m get_handle(\n\u001b[0;32m   1881\u001b[0m     f,\n\u001b[0;32m   1882\u001b[0m     mode,\n\u001b[0;32m   1883\u001b[0m     encoding\u001b[38;5;241m=\u001b[39m\u001b[38;5;28mself\u001b[39m\u001b[38;5;241m.\u001b[39moptions\u001b[38;5;241m.\u001b[39mget(\u001b[38;5;124m\"\u001b[39m\u001b[38;5;124mencoding\u001b[39m\u001b[38;5;124m\"\u001b[39m, \u001b[38;5;28;01mNone\u001b[39;00m),\n\u001b[0;32m   1884\u001b[0m     compression\u001b[38;5;241m=\u001b[39m\u001b[38;5;28mself\u001b[39m\u001b[38;5;241m.\u001b[39moptions\u001b[38;5;241m.\u001b[39mget(\u001b[38;5;124m\"\u001b[39m\u001b[38;5;124mcompression\u001b[39m\u001b[38;5;124m\"\u001b[39m, \u001b[38;5;28;01mNone\u001b[39;00m),\n\u001b[0;32m   1885\u001b[0m     memory_map\u001b[38;5;241m=\u001b[39m\u001b[38;5;28mself\u001b[39m\u001b[38;5;241m.\u001b[39moptions\u001b[38;5;241m.\u001b[39mget(\u001b[38;5;124m\"\u001b[39m\u001b[38;5;124mmemory_map\u001b[39m\u001b[38;5;124m\"\u001b[39m, \u001b[38;5;28;01mFalse\u001b[39;00m),\n\u001b[0;32m   1886\u001b[0m     is_text\u001b[38;5;241m=\u001b[39mis_text,\n\u001b[0;32m   1887\u001b[0m     errors\u001b[38;5;241m=\u001b[39m\u001b[38;5;28mself\u001b[39m\u001b[38;5;241m.\u001b[39moptions\u001b[38;5;241m.\u001b[39mget(\u001b[38;5;124m\"\u001b[39m\u001b[38;5;124mencoding_errors\u001b[39m\u001b[38;5;124m\"\u001b[39m, \u001b[38;5;124m\"\u001b[39m\u001b[38;5;124mstrict\u001b[39m\u001b[38;5;124m\"\u001b[39m),\n\u001b[0;32m   1888\u001b[0m     storage_options\u001b[38;5;241m=\u001b[39m\u001b[38;5;28mself\u001b[39m\u001b[38;5;241m.\u001b[39moptions\u001b[38;5;241m.\u001b[39mget(\u001b[38;5;124m\"\u001b[39m\u001b[38;5;124mstorage_options\u001b[39m\u001b[38;5;124m\"\u001b[39m, \u001b[38;5;28;01mNone\u001b[39;00m),\n\u001b[0;32m   1889\u001b[0m )\n\u001b[0;32m   1890\u001b[0m \u001b[38;5;28;01massert\u001b[39;00m \u001b[38;5;28mself\u001b[39m\u001b[38;5;241m.\u001b[39mhandles \u001b[38;5;129;01mis\u001b[39;00m \u001b[38;5;129;01mnot\u001b[39;00m \u001b[38;5;28;01mNone\u001b[39;00m\n\u001b[0;32m   1891\u001b[0m f \u001b[38;5;241m=\u001b[39m \u001b[38;5;28mself\u001b[39m\u001b[38;5;241m.\u001b[39mhandles\u001b[38;5;241m.\u001b[39mhandle\n",
            "File \u001b[1;32mc:\\Users\\Jacki\\anaconda3\\Lib\\site-packages\\pandas\\io\\common.py:873\u001b[0m, in \u001b[0;36mget_handle\u001b[1;34m(path_or_buf, mode, encoding, compression, memory_map, is_text, errors, storage_options)\u001b[0m\n\u001b[0;32m    868\u001b[0m \u001b[38;5;28;01melif\u001b[39;00m \u001b[38;5;28misinstance\u001b[39m(handle, \u001b[38;5;28mstr\u001b[39m):\n\u001b[0;32m    869\u001b[0m     \u001b[38;5;66;03m# Check whether the filename is to be opened in binary mode.\u001b[39;00m\n\u001b[0;32m    870\u001b[0m     \u001b[38;5;66;03m# Binary mode does not support 'encoding' and 'newline'.\u001b[39;00m\n\u001b[0;32m    871\u001b[0m     \u001b[38;5;28;01mif\u001b[39;00m ioargs\u001b[38;5;241m.\u001b[39mencoding \u001b[38;5;129;01mand\u001b[39;00m \u001b[38;5;124m\"\u001b[39m\u001b[38;5;124mb\u001b[39m\u001b[38;5;124m\"\u001b[39m \u001b[38;5;129;01mnot\u001b[39;00m \u001b[38;5;129;01min\u001b[39;00m ioargs\u001b[38;5;241m.\u001b[39mmode:\n\u001b[0;32m    872\u001b[0m         \u001b[38;5;66;03m# Encoding\u001b[39;00m\n\u001b[1;32m--> 873\u001b[0m         handle \u001b[38;5;241m=\u001b[39m \u001b[38;5;28mopen\u001b[39m(\n\u001b[0;32m    874\u001b[0m             handle,\n\u001b[0;32m    875\u001b[0m             ioargs\u001b[38;5;241m.\u001b[39mmode,\n\u001b[0;32m    876\u001b[0m             encoding\u001b[38;5;241m=\u001b[39mioargs\u001b[38;5;241m.\u001b[39mencoding,\n\u001b[0;32m    877\u001b[0m             errors\u001b[38;5;241m=\u001b[39merrors,\n\u001b[0;32m    878\u001b[0m             newline\u001b[38;5;241m=\u001b[39m\u001b[38;5;124m\"\u001b[39m\u001b[38;5;124m\"\u001b[39m,\n\u001b[0;32m    879\u001b[0m         )\n\u001b[0;32m    880\u001b[0m     \u001b[38;5;28;01melse\u001b[39;00m:\n\u001b[0;32m    881\u001b[0m         \u001b[38;5;66;03m# Binary mode\u001b[39;00m\n\u001b[0;32m    882\u001b[0m         handle \u001b[38;5;241m=\u001b[39m \u001b[38;5;28mopen\u001b[39m(handle, ioargs\u001b[38;5;241m.\u001b[39mmode)\n",
            "\u001b[1;31mFileNotFoundError\u001b[0m: [Errno 2] No such file or directory: '../datsets/clean_renewables_1985_2021.csv'"
          ]
        }
      ],
      "source": [
        "import pandas as pd\n",
        "import numpy as np\n",
        "import matplotlib.pyplot as plt\n",
        "from statsmodels.tsa.arima.model import ARIMA\n",
        "from statsmodels.graphics.tsaplots import plot_acf, plot_pacf\n",
        "from statsmodels.tsa.stattools import adfuller\n",
        "\n",
        "\n",
        "df = pd.read_csv('../datsets/clean_renewables_1985_2021.csv')\n",
        "\n",
        "global_data = df[df['Entity'] == 'World'].copy()\n",
        "\n",
        "\n",
        "global_data['Year'] = pd.PeriodIndex(global_data['Year'].astype(str), freq='Y')\n",
        "global_data = global_data.sort_values('Year')\n",
        "\n",
        "\n",
        "ts_data = global_data.set_index('Year')['Renewables (% electricity)']\n",
        "\n",
        "\n",
        "plt.figure(figsize=(24, 6))\n",
        "plt.plot(ts_data.index.astype(str), ts_data.values, marker='o', linestyle='-')\n",
        "plt.title('Global Renewable Electricity Percentage (1985-2021)')\n",
        "plt.xlabel('Year')\n",
        "plt.ylabel('Renewable Percentage of Global Electricity')\n",
        "plt.grid(True, alpha=0.3)\n",
        "plt.show()"
      ]
    },
    {
      "cell_type": "code",
      "execution_count": null,
      "metadata": {
        "colab": {
          "base_uri": "https://localhost:8080/",
          "height": 1000
        },
        "id": "5Qe9m9mNfstK",
        "outputId": "740c2d48-4756-4960-d823-bbdcc1f5792c"
      },
      "outputs": [],
      "source": [
        "\n",
        "result = adfuller(ts_data)\n",
        "print(f'ADF Statistic: {result[0]}')\n",
        "print(f'p-value: {result[1]}')\n",
        "print('Critical Values:')\n",
        "for key, value in result[4].items():\n",
        "    print(f'   {key}: {value}')\n",
        "\n",
        "\n",
        "ts_data_diff = ts_data.diff().dropna()\n",
        "\n",
        "if result[1] <= 0.05:\n",
        "    d_value = 0\n",
        "else:\n",
        "    d_value = 1\n",
        "\n",
        "\n",
        "plt.figure(figsize=(24, 6))\n",
        "plt.plot(ts_data_diff.index.astype(str), ts_data_diff.values, marker='o')\n",
        "plt.title('Differenced Renewable Electricity Percentage')\n",
        "plt.xlabel('Year')\n",
        "plt.ylabel('Yearly Change in Percentage')\n",
        "plt.grid(True, alpha=0.3)\n",
        "plt.show()\n",
        "\n",
        "\n",
        "fig, (ax1, ax2) = plt.subplots(2, 1, figsize=(12, 8))\n",
        "plot_acf(ts_data_diff, ax=ax1)\n",
        "plot_pacf(ts_data_diff, ax=ax2)\n",
        "plt.tight_layout()\n",
        "plt.show()"
      ]
    },
    {
      "cell_type": "code",
      "execution_count": null,
      "metadata": {
        "colab": {
          "base_uri": "https://localhost:8080/",
          "height": 929
        },
        "id": "YVKSbvjMiRAw",
        "outputId": "ddc10395-840c-42b1-d039-422fb291e408"
      },
      "outputs": [],
      "source": [
        "p, d, q = 1, d_value, 1\n",
        "\n",
        "\n",
        "model = ARIMA(ts_data, order=(p, d, q))\n",
        "model_fit = model.fit()\n",
        "print(model_fit.summary())\n",
        "\n",
        "\n",
        "pred = model_fit.predict(start=1, end=len(ts_data)-1)\n",
        "\n",
        "\n",
        "plt.figure(figsize=(24, 6))\n",
        "\n",
        "\n",
        "plt.plot(ts_data.index.astype(str), ts_data.values, 'o-', label='Actual', color='blue')\n",
        "plt.plot(ts_data.index[1:].astype(str), pred.values, 'x--', label='Predicted', color='orange')\n",
        "\n",
        "plt.title('Model Fit: Actual vs Predicted')\n",
        "plt.xlabel('Year')\n",
        "plt.ylabel('Renewable Percentage of Global Electricity')\n",
        "plt.legend()\n",
        "plt.grid(True, alpha=0.3)\n",
        "plt.show()"
      ]
    },
    {
      "cell_type": "code",
      "execution_count": null,
      "metadata": {
        "colab": {
          "base_uri": "https://localhost:8080/",
          "height": 608
        },
        "id": "1HXu2TmNuPc7",
        "outputId": "8f3b95a5-90d9-445f-c6c7-d2629b63eb38"
      },
      "outputs": [],
      "source": [
        "forecast_horizon = 30\n",
        "forecast = model_fit.forecast(steps=forecast_horizon)\n",
        "\n",
        "\n",
        "last_year = int(ts_data.index[-1].year)\n",
        "future_years = range(last_year + 1, last_year + forecast_horizon + 1)\n",
        "\n",
        "\n",
        "forecast_df = pd.DataFrame({\n",
        "    'Year': future_years,\n",
        "    'Forecast': forecast\n",
        "})\n",
        "\n",
        "\n",
        "if any(forecast_df['Forecast'] >= 50):\n",
        "    forecast_50_pct = forecast_df[forecast_df['Forecast'] >= 50]['Year'].iloc[0]\n",
        "    print(f\"Projected year to reach 50% renewable electricity: {forecast_50_pct}\")\n",
        "else:\n",
        "    forecast_50_pct = None\n",
        "    print(\"50% not reached within forecast horizon (by 2051)\")\n",
        "\n",
        "plt.figure(figsize=(24, 7))\n",
        "plt.plot(ts_data.index.astype(str), ts_data.values, 'o-', label='Historical Data', color='blue')\n",
        "plt.plot(forecast_df['Year'].astype(str), forecast_df['Forecast'], 'x--', label='ARIMA Forecast', color='green')\n",
        "plt.axhline(y=50, color='red', linestyle='--', alpha=0.7, label='50% Target')\n",
        "\n",
        "if forecast_50_pct:\n",
        "    plt.axvline(x=str(forecast_50_pct), color='purple', linestyle=':', alpha=0.7)\n",
        "    plt.annotate(f'50% Target: {forecast_50_pct}',\n",
        "                xy=(str(forecast_50_pct), 50),\n",
        "                xytext=(0, 30),\n",
        "                textcoords='offset points',\n",
        "                arrowprops=dict(arrowstyle='->'))\n",
        "\n",
        "plt.title('Global Renewable Electricity Percentage Projection', fontsize=14)\n",
        "plt.xlabel('Year', fontsize=12)\n",
        "plt.ylabel('Renewable Percentage of Global Electricity', fontsize=12)\n",
        "plt.grid(True, alpha=0.3)\n",
        "plt.legend()\n",
        "\n",
        "plt.xticks(rotation=45)\n",
        "plt.tight_layout()\n",
        "plt.show()\n",
        "\n",
        "print(\"\\nForecasted values for key milestone years:\")\n",
        "milestone_years = [last_year + 5, last_year + 10, last_year + 20, last_year + 30]\n",
        "for year in milestone_years:\n",
        "    forecast_value = forecast_df[forecast_df['Year'] == year]['Forecast'].iloc[0]\n",
        "    print(f\"Year {year}: {forecast_value:.2f}%\")"
      ]
    },
    {
      "cell_type": "code",
      "execution_count": null,
      "metadata": {
        "colab": {
          "base_uri": "https://localhost:8080/"
        },
        "id": "fTH9SAOPAXt0",
        "outputId": "810133f3-73c4-4369-a58e-a5b1fa47e5b4"
      },
      "outputs": [],
      "source": [
        "base_projection = model_fit.forecast(steps=30)\n",
        "\n",
        "accelerated_projection = []\n",
        "last_value = ts_data.iloc[-1]\n",
        "\n",
        "for i in range(len(base_projection)):\n",
        "\n",
        "    if i == 0:\n",
        "        base_change = base_projection[i] - last_value\n",
        "    else:\n",
        "        base_change = base_projection[i] - base_projection[i-1]\n",
        "\n",
        "\n",
        "    accelerated_change = base_change * 1.5\n",
        "\n",
        "    if i == 0:\n",
        "        accelerated_projection.append(last_value + accelerated_change)\n",
        "    else:\n",
        "        accelerated_projection.append(accelerated_projection[i-1] + accelerated_change)"
      ]
    },
    {
      "cell_type": "code",
      "execution_count": null,
      "metadata": {
        "colab": {
          "base_uri": "https://localhost:8080/",
          "height": 807
        },
        "id": "guyNdG8kGS3g",
        "outputId": "5c5322b9-dd0b-4317-e14d-ddc46e612884"
      },
      "outputs": [],
      "source": [
        "last_year = ts_data.index[-1].year\n",
        "last_value = ts_data.iloc[-1]\n",
        "\n",
        "future_years = range(last_year + 1, last_year + forecast_horizon + 1)\n",
        "\n",
        "\n",
        "plt.figure(figsize=(14,8))\n",
        "\n",
        "historical_years = [period.year for period in ts_data.index]\n",
        "\n",
        "plt.plot(historical_years, ts_data.values, 'o-', color='blue', label='Historical Data')\n",
        "\n",
        "plt.plot(future_years, base_projection, 'x--', color='green', label='Base Projection')\n",
        "\n",
        "plt.plot(future_years, accelerated_projection, 'x--', color='red', label='Accelerated Projection 50%')\n",
        "\n",
        "for target in [50, 70]:\n",
        "    if any(base_projection >= target):\n",
        "        target_year_index = np.where(base_projection >= target)[0][0]\n",
        "        target_year = future_years[target_year_index]\n",
        "        plt.annotate(f\"Base: {target}% in {target_year}\",\n",
        "                     xy=(target_year, target),\n",
        "                     xytext=(target_year-5, target+5),\n",
        "                     arrowprops=dict(facecolor='red', shrink=0.05, width=1.5),\n",
        "                     fontsize=10)\n",
        "\n",
        "for target in [50, 70]:\n",
        "    if any(np.array(accelerated_projection) >= target):\n",
        "        target_year_index = np.where(np.array(accelerated_projection) >= target)[0][0]\n",
        "        target_year = future_years[target_year_index]\n",
        "        plt.annotate(f\"Accelerated: {target}% in {target_year}\",\n",
        "                     xy=(target_year, target),\n",
        "                     xytext=(target_year-5, target-7),\n",
        "                     arrowprops=dict(facecolor='green', shrink=0.05, width=1.5),\n",
        "                     fontsize=10)\n",
        "\n",
        "plt.title('Renewable Energy Projections vs. Climate Targets', fontsize=16)\n",
        "plt.xlabel('Year', fontsize=14)\n",
        "plt.ylabel('Renewable Energy (% of Global Electricity)', fontsize=14)\n",
        "plt.grid(True, linestyle='--', alpha=0.7)\n",
        "\n",
        "\n",
        "plt.ylim(0, 100)\n",
        "\n",
        "plt.xticks(fontsize=12)\n",
        "plt.yticks(fontsize=12)\n",
        "\n",
        "plt.legend(loc='upper left', fontsize=12)\n",
        "\n",
        "\n",
        "plt.tight_layout()\n",
        "plt.show()\n"
      ]
    },
    {
      "cell_type": "code",
      "execution_count": null,
      "metadata": {
        "id": "IteSpaQ6Jzb4"
      },
      "outputs": [],
      "source": []
    }
  ],
  "metadata": {
    "colab": {
      "provenance": []
    },
    "kernelspec": {
      "display_name": "base",
      "language": "python",
      "name": "python3"
    },
    "language_info": {
      "codemirror_mode": {
        "name": "ipython",
        "version": 3
      },
      "file_extension": ".py",
      "mimetype": "text/x-python",
      "name": "python",
      "nbconvert_exporter": "python",
      "pygments_lexer": "ipython3",
      "version": "3.12.7"
    }
  },
  "nbformat": 4,
  "nbformat_minor": 0
}
