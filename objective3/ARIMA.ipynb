{
  "cells": [
    {
      "cell_type": "code",
      "execution_count": null,
      "metadata": {
        "colab": {
          "base_uri": "https://localhost:8080/",
          "height": 478
        },
        "id": "8eMMM26z9Akf",
        "outputId": "c6fae5df-db0e-42fb-9d60-7411cff652e2"
      },
      "outputs": [
        {
          "ename": "",
          "evalue": "",
          "output_type": "error",
          "traceback": [
            "\u001b[1;31mRunning cells with '.conda (Python 3.11.11)' requires the ipykernel package.\n",
            "\u001b[1;31mInstall 'ipykernel' into the Python environment. \n",
            "\u001b[1;31mCommand: 'conda install -n .conda ipykernel --update-deps --force-reinstall'"
          ]
        }
      ],
      "source": [
        "import pandas as pd\n",
        "import numpy as np\n",
        "import matplotlib.pyplot as plt\n",
        "from statsmodels.tsa.arima.model import ARIMA\n",
        "from statsmodels.graphics.tsaplots import plot_acf, plot_pacf\n",
        "from statsmodels.tsa.stattools import adfuller\n",
        "\n",
        "\n",
        "df = pd.read_csv('../datasets/clean_renewables_1985_2021.csv')\n",
        "\n",
        "global_data = df[df['Entity'] == 'World'].copy()\n",
        "\n",
        "\n",
        "global_data['Year'] = pd.PeriodIndex(global_data['Year'].astype(str), freq='Y')\n",
        "global_data = global_data.sort_values('Year')\n",
        "\n",
        "\n",
        "ts_data = global_data.set_index('Year')['Renewables (% electricity)']\n",
        "\n",
        "\n",
        "plt.figure(figsize=(24, 6))\n",
        "plt.plot(ts_data.index.astype(str), ts_data.values, marker='o', linestyle='-')\n",
        "plt.title('Global Renewable Electricity Percentage (1985-2021)')\n",
        "plt.xlabel('Year')\n",
        "plt.ylabel('Renewable Percentage of Global Electricity')\n",
        "plt.grid(True, alpha=0.3)\n",
        "plt.show()"
      ]
    },
    {
      "cell_type": "code",
      "execution_count": null,
      "metadata": {
        "colab": {
          "base_uri": "https://localhost:8080/",
          "height": 1000
        },
        "id": "5Qe9m9mNfstK",
        "outputId": "740c2d48-4756-4960-d823-bbdcc1f5792c"
      },
      "outputs": [],
      "source": [
        "\n",
        "result = adfuller(ts_data)\n",
        "print(f'ADF Statistic: {result[0]}')\n",
        "print(f'p-value: {result[1]}')\n",
        "print('Critical Values:')\n",
        "for key, value in result[4].items():\n",
        "    print(f'   {key}: {value}')\n",
        "\n",
        "\n",
        "ts_data_diff = ts_data.diff().dropna()\n",
        "\n",
        "if result[1] <= 0.05:\n",
        "    d_value = 0\n",
        "else:\n",
        "    d_value = 1\n",
        "\n",
        "\n",
        "plt.figure(figsize=(24, 6))\n",
        "plt.plot(ts_data_diff.index.astype(str), ts_data_diff.values, marker='o')\n",
        "plt.title('Differenced Renewable Electricity Percentage')\n",
        "plt.xlabel('Year')\n",
        "plt.ylabel('Yearly Change in Percentage')\n",
        "plt.grid(True, alpha=0.3)\n",
        "plt.show()\n",
        "\n",
        "\n",
        "fig, (ax1, ax2) = plt.subplots(2, 1, figsize=(12, 8))\n",
        "plot_acf(ts_data_diff, ax=ax1)\n",
        "plot_pacf(ts_data_diff, ax=ax2)\n",
        "plt.tight_layout()\n",
        "plt.show()"
      ]
    },
    {
      "cell_type": "code",
      "execution_count": null,
      "metadata": {
        "colab": {
          "base_uri": "https://localhost:8080/",
          "height": 929
        },
        "id": "YVKSbvjMiRAw",
        "outputId": "ddc10395-840c-42b1-d039-422fb291e408"
      },
      "outputs": [],
      "source": [
        "p, d, q = 1, d_value, 1\n",
        "\n",
        "\n",
        "model = ARIMA(ts_data, order=(p, d, q))\n",
        "model_fit = model.fit()\n",
        "print(model_fit.summary())\n",
        "\n",
        "\n",
        "pred = model_fit.predict(start=1, end=len(ts_data)-1)\n",
        "\n",
        "\n",
        "plt.figure(figsize=(24, 6))\n",
        "\n",
        "\n",
        "plt.plot(ts_data.index.astype(str), ts_data.values, 'o-', label='Actual', color='blue')\n",
        "plt.plot(ts_data.index[1:].astype(str), pred.values, 'x--', label='Predicted', color='orange')\n",
        "\n",
        "plt.title('Model Fit: Actual vs Predicted')\n",
        "plt.xlabel('Year')\n",
        "plt.ylabel('Renewable Percentage of Global Electricity')\n",
        "plt.legend()\n",
        "plt.grid(True, alpha=0.3)\n",
        "plt.show()"
      ]
    },
    {
      "cell_type": "code",
      "execution_count": null,
      "metadata": {
        "colab": {
          "base_uri": "https://localhost:8080/",
          "height": 608
        },
        "id": "1HXu2TmNuPc7",
        "outputId": "8f3b95a5-90d9-445f-c6c7-d2629b63eb38"
      },
      "outputs": [],
      "source": [
        "forecast_horizon = 30\n",
        "forecast = model_fit.forecast(steps=forecast_horizon)\n",
        "\n",
        "\n",
        "last_year = int(ts_data.index[-1].year)\n",
        "future_years = range(last_year + 1, last_year + forecast_horizon + 1)\n",
        "\n",
        "\n",
        "forecast_df = pd.DataFrame({\n",
        "    'Year': future_years,\n",
        "    'Forecast': forecast\n",
        "})\n",
        "\n",
        "\n",
        "if any(forecast_df['Forecast'] >= 50):\n",
        "    forecast_50_pct = forecast_df[forecast_df['Forecast'] >= 50]['Year'].iloc[0]\n",
        "    print(f\"Projected year to reach 50% renewable electricity: {forecast_50_pct}\")\n",
        "else:\n",
        "    forecast_50_pct = None\n",
        "    print(\"50% not reached within forecast horizon (by 2051)\")\n",
        "\n",
        "plt.figure(figsize=(24, 7))\n",
        "plt.plot(ts_data.index.astype(str), ts_data.values, 'o-', label='Historical Data', color='blue')\n",
        "plt.plot(forecast_df['Year'].astype(str), forecast_df['Forecast'], 'x--', label='ARIMA Forecast', color='green')\n",
        "plt.axhline(y=50, color='red', linestyle='--', alpha=0.7, label='50% Target')\n",
        "\n",
        "if forecast_50_pct:\n",
        "    plt.axvline(x=str(forecast_50_pct), color='purple', linestyle=':', alpha=0.7)\n",
        "    plt.annotate(f'50% Target: {forecast_50_pct}',\n",
        "                xy=(str(forecast_50_pct), 50),\n",
        "                xytext=(0, 30),\n",
        "                textcoords='offset points',\n",
        "                arrowprops=dict(arrowstyle='->'))\n",
        "\n",
        "plt.title('Global Renewable Electricity Percentage Projection', fontsize=14)\n",
        "plt.xlabel('Year', fontsize=12)\n",
        "plt.ylabel('Renewable Percentage of Global Electricity', fontsize=12)\n",
        "plt.grid(True, alpha=0.3)\n",
        "plt.legend()\n",
        "\n",
        "plt.xticks(rotation=45)\n",
        "plt.tight_layout()\n",
        "plt.show()\n",
        "\n",
        "print(\"\\nForecasted values for key milestone years:\")\n",
        "milestone_years = [last_year + 5, last_year + 10, last_year + 20, last_year + 30]\n",
        "for year in milestone_years:\n",
        "    forecast_value = forecast_df[forecast_df['Year'] == year]['Forecast'].iloc[0]\n",
        "    print(f\"Year {year}: {forecast_value:.2f}%\")"
      ]
    },
    {
      "cell_type": "code",
      "execution_count": null,
      "metadata": {
        "colab": {
          "base_uri": "https://localhost:8080/"
        },
        "id": "fTH9SAOPAXt0",
        "outputId": "810133f3-73c4-4369-a58e-a5b1fa47e5b4"
      },
      "outputs": [],
      "source": [
        "base_projection = model_fit.forecast(steps=30)\n",
        "\n",
        "accelerated_projection = []\n",
        "last_value = ts_data.iloc[-1]\n",
        "\n",
        "for i in range(len(base_projection)):\n",
        "\n",
        "    if i == 0:\n",
        "        base_change = base_projection[i] - last_value\n",
        "    else:\n",
        "        base_change = base_projection[i] - base_projection[i-1]\n",
        "\n",
        "\n",
        "    accelerated_change = base_change * 1.5\n",
        "\n",
        "    if i == 0:\n",
        "        accelerated_projection.append(last_value + accelerated_change)\n",
        "    else:\n",
        "        accelerated_projection.append(accelerated_projection[i-1] + accelerated_change)"
      ]
    },
    {
      "cell_type": "code",
      "execution_count": null,
      "metadata": {
        "colab": {
          "base_uri": "https://localhost:8080/",
          "height": 807
        },
        "id": "guyNdG8kGS3g",
        "outputId": "5c5322b9-dd0b-4317-e14d-ddc46e612884"
      },
      "outputs": [],
      "source": [
        "last_year = ts_data.index[-1].year\n",
        "last_value = ts_data.iloc[-1]\n",
        "\n",
        "future_years = range(last_year + 1, last_year + forecast_horizon + 1)\n",
        "\n",
        "\n",
        "plt.figure(figsize=(14,8))\n",
        "\n",
        "historical_years = [period.year for period in ts_data.index]\n",
        "\n",
        "plt.plot(historical_years, ts_data.values, 'o-', color='blue', label='Historical Data')\n",
        "\n",
        "plt.plot(future_years, base_projection, 'x--', color='green', label='Base Projection')\n",
        "\n",
        "plt.plot(future_years, accelerated_projection, 'x--', color='red', label='Accelerated Projection 50%')\n",
        "\n",
        "for target in [50, 70]:\n",
        "    if any(base_projection >= target):\n",
        "        target_year_index = np.where(base_projection >= target)[0][0]\n",
        "        target_year = future_years[target_year_index]\n",
        "        plt.annotate(f\"Base: {target}% in {target_year}\",\n",
        "                     xy=(target_year, target),\n",
        "                     xytext=(target_year-5, target+5),\n",
        "                     arrowprops=dict(facecolor='red', shrink=0.05, width=1.5),\n",
        "                     fontsize=10)\n",
        "\n",
        "for target in [50, 70]:\n",
        "    if any(np.array(accelerated_projection) >= target):\n",
        "        target_year_index = np.where(np.array(accelerated_projection) >= target)[0][0]\n",
        "        target_year = future_years[target_year_index]\n",
        "        plt.annotate(f\"Accelerated: {target}% in {target_year}\",\n",
        "                     xy=(target_year, target),\n",
        "                     xytext=(target_year-5, target-7),\n",
        "                     arrowprops=dict(facecolor='green', shrink=0.05, width=1.5),\n",
        "                     fontsize=10)\n",
        "\n",
        "plt.title('Renewable Energy Projections vs. Climate Targets', fontsize=16)\n",
        "plt.xlabel('Year', fontsize=14)\n",
        "plt.ylabel('Renewable Energy (% of Global Electricity)', fontsize=14)\n",
        "plt.grid(True, linestyle='--', alpha=0.7)\n",
        "\n",
        "\n",
        "plt.ylim(0, 100)\n",
        "\n",
        "plt.xticks(fontsize=12)\n",
        "plt.yticks(fontsize=12)\n",
        "\n",
        "plt.legend(loc='upper left', fontsize=12)\n",
        "\n",
        "\n",
        "plt.tight_layout()\n",
        "plt.show()\n"
      ]
    },
    {
      "cell_type": "code",
      "execution_count": null,
      "metadata": {
        "id": "IteSpaQ6Jzb4"
      },
      "outputs": [],
      "source": []
    }
  ],
  "metadata": {
    "colab": {
      "provenance": []
    },
    "kernelspec": {
      "display_name": ".conda",
      "language": "python",
      "name": "python3"
    },
    "language_info": {
      "name": "python",
      "version": "3.11.11"
    }
  },
  "nbformat": 4,
  "nbformat_minor": 0
}
